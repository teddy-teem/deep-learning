{
  "nbformat": 4,
  "nbformat_minor": 0,
  "metadata": {
    "colab": {
      "provenance": [],
      "toc_visible": true,
      "include_colab_link": true
    },
    "kernelspec": {
      "name": "python3",
      "display_name": "Python 3"
    },
    "language_info": {
      "name": "python"
    }
  },
  "cells": [
    {
      "cell_type": "markdown",
      "metadata": {
        "id": "view-in-github",
        "colab_type": "text"
      },
      "source": [
        "<a href=\"https://colab.research.google.com/github/teddy-teem/deep-learning/blob/master/RNN.ipynb\" target=\"_parent\"><img src=\"https://colab.research.google.com/assets/colab-badge.svg\" alt=\"Open In Colab\"/></a>"
      ]
    },
    {
      "cell_type": "markdown",
      "source": [
        "1. Load Datasets\n",
        "2. Embeded the sentence, into vector <br/>\n",
        "  What is the capital of France?\n",
        "3. Build RNN\n",
        "4. Train\n",
        "5. Predict\n",
        "\n",
        "\n",
        "https://www.youtube.com/watch?v=xjzWrPQ66VQ&list=PLKnIA16_Rmvboy8bmDCjwNHgTaYH2puK7&index=13&ab_channel=CampusX"
      ],
      "metadata": {
        "id": "asSaFr4IIgLD"
      }
    },
    {
      "cell_type": "code",
      "execution_count": 1,
      "metadata": {
        "id": "ueJxsRjDmR-Y"
      },
      "outputs": [],
      "source": [
        "import pandas as pd\n",
        "import torch\n",
        "from sklearn.model_selection import train_test_split\n",
        "from torch.utils.data import Dataset, DataLoader\n",
        "import torch.nn as nn\n",
        "import matplotlib.pyplot as plt\n",
        "import torch.optim as optim\n"
      ]
    },
    {
      "cell_type": "code",
      "source": [
        "device = torch.device(\"cuda\" if torch.cuda.is_available() else \"cpu\")\n",
        "device"
      ],
      "metadata": {
        "colab": {
          "base_uri": "https://localhost:8080/"
        },
        "id": "wtXXmxn1na_j",
        "outputId": "3406ec07-48cb-49dc-dded-0cb27a2527f6"
      },
      "execution_count": 2,
      "outputs": [
        {
          "output_type": "execute_result",
          "data": {
            "text/plain": [
              "device(type='cpu')"
            ]
          },
          "metadata": {},
          "execution_count": 2
        }
      ]
    },
    {
      "cell_type": "code",
      "source": [
        "torch.manual_seed(42)"
      ],
      "metadata": {
        "colab": {
          "base_uri": "https://localhost:8080/"
        },
        "id": "cFfvmjF_nHkt",
        "outputId": "986aba7b-490d-44df-e1b2-31e017464080"
      },
      "execution_count": 3,
      "outputs": [
        {
          "output_type": "execute_result",
          "data": {
            "text/plain": [
              "<torch._C.Generator at 0x792e467e2c10>"
            ]
          },
          "metadata": {},
          "execution_count": 3
        }
      ]
    },
    {
      "cell_type": "code",
      "source": [
        "from google.colab import drive\n",
        "drive.mount('/content/drive')\n"
      ],
      "metadata": {
        "colab": {
          "base_uri": "https://localhost:8080/"
        },
        "id": "yklrkoVvoUrb",
        "outputId": "57f84615-8553-479d-a451-5cdd25ba5a04"
      },
      "execution_count": 4,
      "outputs": [
        {
          "output_type": "stream",
          "name": "stdout",
          "text": [
            "Mounted at /content/drive\n"
          ]
        }
      ]
    },
    {
      "cell_type": "code",
      "source": [
        "file_path = '/content/drive/My Drive/Datasets/100_Unique_QA_Dataset.csv'"
      ],
      "metadata": {
        "id": "d8bxkxVlKpKW"
      },
      "execution_count": 5,
      "outputs": []
    },
    {
      "cell_type": "code",
      "source": [
        "df = pd.read_csv(file_path)\n",
        "df.shape"
      ],
      "metadata": {
        "colab": {
          "base_uri": "https://localhost:8080/"
        },
        "id": "Yv__koHuKTrs",
        "outputId": "b35eaaad-2069-4f99-c578-8cd5ce1723f1"
      },
      "execution_count": 6,
      "outputs": [
        {
          "output_type": "execute_result",
          "data": {
            "text/plain": [
              "(90, 2)"
            ]
          },
          "metadata": {},
          "execution_count": 6
        }
      ]
    },
    {
      "cell_type": "code",
      "source": [
        "df.head()"
      ],
      "metadata": {
        "colab": {
          "base_uri": "https://localhost:8080/",
          "height": 206
        },
        "id": "3uNKqR7eKzaW",
        "outputId": "ffaf2e1a-72d7-437d-9fcd-aa3e03fc22ca"
      },
      "execution_count": 7,
      "outputs": [
        {
          "output_type": "execute_result",
          "data": {
            "text/plain": [
              "                                          question      answer\n",
              "0                   What is the capital of France?       Paris\n",
              "1                  What is the capital of Germany?      Berlin\n",
              "2               Who wrote 'To Kill a Mockingbird'?  Harper-Lee\n",
              "3  What is the largest planet in our solar system?     Jupiter\n",
              "4   What is the boiling point of water in Celsius?         100"
            ],
            "text/html": [
              "\n",
              "  <div id=\"df-6ae1fa5c-676e-4575-9bf5-e6de4eed7e9b\" class=\"colab-df-container\">\n",
              "    <div>\n",
              "<style scoped>\n",
              "    .dataframe tbody tr th:only-of-type {\n",
              "        vertical-align: middle;\n",
              "    }\n",
              "\n",
              "    .dataframe tbody tr th {\n",
              "        vertical-align: top;\n",
              "    }\n",
              "\n",
              "    .dataframe thead th {\n",
              "        text-align: right;\n",
              "    }\n",
              "</style>\n",
              "<table border=\"1\" class=\"dataframe\">\n",
              "  <thead>\n",
              "    <tr style=\"text-align: right;\">\n",
              "      <th></th>\n",
              "      <th>question</th>\n",
              "      <th>answer</th>\n",
              "    </tr>\n",
              "  </thead>\n",
              "  <tbody>\n",
              "    <tr>\n",
              "      <th>0</th>\n",
              "      <td>What is the capital of France?</td>\n",
              "      <td>Paris</td>\n",
              "    </tr>\n",
              "    <tr>\n",
              "      <th>1</th>\n",
              "      <td>What is the capital of Germany?</td>\n",
              "      <td>Berlin</td>\n",
              "    </tr>\n",
              "    <tr>\n",
              "      <th>2</th>\n",
              "      <td>Who wrote 'To Kill a Mockingbird'?</td>\n",
              "      <td>Harper-Lee</td>\n",
              "    </tr>\n",
              "    <tr>\n",
              "      <th>3</th>\n",
              "      <td>What is the largest planet in our solar system?</td>\n",
              "      <td>Jupiter</td>\n",
              "    </tr>\n",
              "    <tr>\n",
              "      <th>4</th>\n",
              "      <td>What is the boiling point of water in Celsius?</td>\n",
              "      <td>100</td>\n",
              "    </tr>\n",
              "  </tbody>\n",
              "</table>\n",
              "</div>\n",
              "    <div class=\"colab-df-buttons\">\n",
              "\n",
              "  <div class=\"colab-df-container\">\n",
              "    <button class=\"colab-df-convert\" onclick=\"convertToInteractive('df-6ae1fa5c-676e-4575-9bf5-e6de4eed7e9b')\"\n",
              "            title=\"Convert this dataframe to an interactive table.\"\n",
              "            style=\"display:none;\">\n",
              "\n",
              "  <svg xmlns=\"http://www.w3.org/2000/svg\" height=\"24px\" viewBox=\"0 -960 960 960\">\n",
              "    <path d=\"M120-120v-720h720v720H120Zm60-500h600v-160H180v160Zm220 220h160v-160H400v160Zm0 220h160v-160H400v160ZM180-400h160v-160H180v160Zm440 0h160v-160H620v160ZM180-180h160v-160H180v160Zm440 0h160v-160H620v160Z\"/>\n",
              "  </svg>\n",
              "    </button>\n",
              "\n",
              "  <style>\n",
              "    .colab-df-container {\n",
              "      display:flex;\n",
              "      gap: 12px;\n",
              "    }\n",
              "\n",
              "    .colab-df-convert {\n",
              "      background-color: #E8F0FE;\n",
              "      border: none;\n",
              "      border-radius: 50%;\n",
              "      cursor: pointer;\n",
              "      display: none;\n",
              "      fill: #1967D2;\n",
              "      height: 32px;\n",
              "      padding: 0 0 0 0;\n",
              "      width: 32px;\n",
              "    }\n",
              "\n",
              "    .colab-df-convert:hover {\n",
              "      background-color: #E2EBFA;\n",
              "      box-shadow: 0px 1px 2px rgba(60, 64, 67, 0.3), 0px 1px 3px 1px rgba(60, 64, 67, 0.15);\n",
              "      fill: #174EA6;\n",
              "    }\n",
              "\n",
              "    .colab-df-buttons div {\n",
              "      margin-bottom: 4px;\n",
              "    }\n",
              "\n",
              "    [theme=dark] .colab-df-convert {\n",
              "      background-color: #3B4455;\n",
              "      fill: #D2E3FC;\n",
              "    }\n",
              "\n",
              "    [theme=dark] .colab-df-convert:hover {\n",
              "      background-color: #434B5C;\n",
              "      box-shadow: 0px 1px 3px 1px rgba(0, 0, 0, 0.15);\n",
              "      filter: drop-shadow(0px 1px 2px rgba(0, 0, 0, 0.3));\n",
              "      fill: #FFFFFF;\n",
              "    }\n",
              "  </style>\n",
              "\n",
              "    <script>\n",
              "      const buttonEl =\n",
              "        document.querySelector('#df-6ae1fa5c-676e-4575-9bf5-e6de4eed7e9b button.colab-df-convert');\n",
              "      buttonEl.style.display =\n",
              "        google.colab.kernel.accessAllowed ? 'block' : 'none';\n",
              "\n",
              "      async function convertToInteractive(key) {\n",
              "        const element = document.querySelector('#df-6ae1fa5c-676e-4575-9bf5-e6de4eed7e9b');\n",
              "        const dataTable =\n",
              "          await google.colab.kernel.invokeFunction('convertToInteractive',\n",
              "                                                    [key], {});\n",
              "        if (!dataTable) return;\n",
              "\n",
              "        const docLinkHtml = 'Like what you see? Visit the ' +\n",
              "          '<a target=\"_blank\" href=https://colab.research.google.com/notebooks/data_table.ipynb>data table notebook</a>'\n",
              "          + ' to learn more about interactive tables.';\n",
              "        element.innerHTML = '';\n",
              "        dataTable['output_type'] = 'display_data';\n",
              "        await google.colab.output.renderOutput(dataTable, element);\n",
              "        const docLink = document.createElement('div');\n",
              "        docLink.innerHTML = docLinkHtml;\n",
              "        element.appendChild(docLink);\n",
              "      }\n",
              "    </script>\n",
              "  </div>\n",
              "\n",
              "\n",
              "    <div id=\"df-cf62cf4f-b674-443b-b606-13ccbb919c32\">\n",
              "      <button class=\"colab-df-quickchart\" onclick=\"quickchart('df-cf62cf4f-b674-443b-b606-13ccbb919c32')\"\n",
              "                title=\"Suggest charts\"\n",
              "                style=\"display:none;\">\n",
              "\n",
              "<svg xmlns=\"http://www.w3.org/2000/svg\" height=\"24px\"viewBox=\"0 0 24 24\"\n",
              "     width=\"24px\">\n",
              "    <g>\n",
              "        <path d=\"M19 3H5c-1.1 0-2 .9-2 2v14c0 1.1.9 2 2 2h14c1.1 0 2-.9 2-2V5c0-1.1-.9-2-2-2zM9 17H7v-7h2v7zm4 0h-2V7h2v10zm4 0h-2v-4h2v4z\"/>\n",
              "    </g>\n",
              "</svg>\n",
              "      </button>\n",
              "\n",
              "<style>\n",
              "  .colab-df-quickchart {\n",
              "      --bg-color: #E8F0FE;\n",
              "      --fill-color: #1967D2;\n",
              "      --hover-bg-color: #E2EBFA;\n",
              "      --hover-fill-color: #174EA6;\n",
              "      --disabled-fill-color: #AAA;\n",
              "      --disabled-bg-color: #DDD;\n",
              "  }\n",
              "\n",
              "  [theme=dark] .colab-df-quickchart {\n",
              "      --bg-color: #3B4455;\n",
              "      --fill-color: #D2E3FC;\n",
              "      --hover-bg-color: #434B5C;\n",
              "      --hover-fill-color: #FFFFFF;\n",
              "      --disabled-bg-color: #3B4455;\n",
              "      --disabled-fill-color: #666;\n",
              "  }\n",
              "\n",
              "  .colab-df-quickchart {\n",
              "    background-color: var(--bg-color);\n",
              "    border: none;\n",
              "    border-radius: 50%;\n",
              "    cursor: pointer;\n",
              "    display: none;\n",
              "    fill: var(--fill-color);\n",
              "    height: 32px;\n",
              "    padding: 0;\n",
              "    width: 32px;\n",
              "  }\n",
              "\n",
              "  .colab-df-quickchart:hover {\n",
              "    background-color: var(--hover-bg-color);\n",
              "    box-shadow: 0 1px 2px rgba(60, 64, 67, 0.3), 0 1px 3px 1px rgba(60, 64, 67, 0.15);\n",
              "    fill: var(--button-hover-fill-color);\n",
              "  }\n",
              "\n",
              "  .colab-df-quickchart-complete:disabled,\n",
              "  .colab-df-quickchart-complete:disabled:hover {\n",
              "    background-color: var(--disabled-bg-color);\n",
              "    fill: var(--disabled-fill-color);\n",
              "    box-shadow: none;\n",
              "  }\n",
              "\n",
              "  .colab-df-spinner {\n",
              "    border: 2px solid var(--fill-color);\n",
              "    border-color: transparent;\n",
              "    border-bottom-color: var(--fill-color);\n",
              "    animation:\n",
              "      spin 1s steps(1) infinite;\n",
              "  }\n",
              "\n",
              "  @keyframes spin {\n",
              "    0% {\n",
              "      border-color: transparent;\n",
              "      border-bottom-color: var(--fill-color);\n",
              "      border-left-color: var(--fill-color);\n",
              "    }\n",
              "    20% {\n",
              "      border-color: transparent;\n",
              "      border-left-color: var(--fill-color);\n",
              "      border-top-color: var(--fill-color);\n",
              "    }\n",
              "    30% {\n",
              "      border-color: transparent;\n",
              "      border-left-color: var(--fill-color);\n",
              "      border-top-color: var(--fill-color);\n",
              "      border-right-color: var(--fill-color);\n",
              "    }\n",
              "    40% {\n",
              "      border-color: transparent;\n",
              "      border-right-color: var(--fill-color);\n",
              "      border-top-color: var(--fill-color);\n",
              "    }\n",
              "    60% {\n",
              "      border-color: transparent;\n",
              "      border-right-color: var(--fill-color);\n",
              "    }\n",
              "    80% {\n",
              "      border-color: transparent;\n",
              "      border-right-color: var(--fill-color);\n",
              "      border-bottom-color: var(--fill-color);\n",
              "    }\n",
              "    90% {\n",
              "      border-color: transparent;\n",
              "      border-bottom-color: var(--fill-color);\n",
              "    }\n",
              "  }\n",
              "</style>\n",
              "\n",
              "      <script>\n",
              "        async function quickchart(key) {\n",
              "          const quickchartButtonEl =\n",
              "            document.querySelector('#' + key + ' button');\n",
              "          quickchartButtonEl.disabled = true;  // To prevent multiple clicks.\n",
              "          quickchartButtonEl.classList.add('colab-df-spinner');\n",
              "          try {\n",
              "            const charts = await google.colab.kernel.invokeFunction(\n",
              "                'suggestCharts', [key], {});\n",
              "          } catch (error) {\n",
              "            console.error('Error during call to suggestCharts:', error);\n",
              "          }\n",
              "          quickchartButtonEl.classList.remove('colab-df-spinner');\n",
              "          quickchartButtonEl.classList.add('colab-df-quickchart-complete');\n",
              "        }\n",
              "        (() => {\n",
              "          let quickchartButtonEl =\n",
              "            document.querySelector('#df-cf62cf4f-b674-443b-b606-13ccbb919c32 button');\n",
              "          quickchartButtonEl.style.display =\n",
              "            google.colab.kernel.accessAllowed ? 'block' : 'none';\n",
              "        })();\n",
              "      </script>\n",
              "    </div>\n",
              "\n",
              "    </div>\n",
              "  </div>\n"
            ],
            "application/vnd.google.colaboratory.intrinsic+json": {
              "type": "dataframe",
              "variable_name": "df",
              "summary": "{\n  \"name\": \"df\",\n  \"rows\": 90,\n  \"fields\": [\n    {\n      \"column\": \"question\",\n      \"properties\": {\n        \"dtype\": \"string\",\n        \"num_unique_values\": 90,\n        \"samples\": [\n          \"What is the currency of China?\",\n          \"What is the capital of Australia?\",\n          \"Who discovered electricity?\"\n        ],\n        \"semantic_type\": \"\",\n        \"description\": \"\"\n      }\n    },\n    {\n      \"column\": \"answer\",\n      \"properties\": {\n        \"dtype\": \"string\",\n        \"num_unique_values\": 85,\n        \"samples\": [\n          \"ChristopherColumbus\",\n          \"Paris\",\n          \"Christmas\"\n        ],\n        \"semantic_type\": \"\",\n        \"description\": \"\"\n      }\n    }\n  ]\n}"
            }
          },
          "metadata": {},
          "execution_count": 7
        }
      ]
    },
    {
      "cell_type": "code",
      "source": [
        "# Tokenize\n",
        "def tokenize(text):\n",
        "  text = text.lower()\n",
        "  text= text.replace(\"?\", \"\")\n",
        "  text = text.replace(\"'\", \"\")\n",
        "  return text.split()\n"
      ],
      "metadata": {
        "id": "orrXileNp1Z2"
      },
      "execution_count": 8,
      "outputs": []
    },
    {
      "cell_type": "code",
      "source": [
        "tokenize(\"What is the capital of France?\")"
      ],
      "metadata": {
        "colab": {
          "base_uri": "https://localhost:8080/"
        },
        "id": "rzMIi6lcLN4D",
        "outputId": "a047802d-c851-4dde-e0d7-905e172faf71"
      },
      "execution_count": 9,
      "outputs": [
        {
          "output_type": "execute_result",
          "data": {
            "text/plain": [
              "['what', 'is', 'the', 'capital', 'of', 'france']"
            ]
          },
          "metadata": {},
          "execution_count": 9
        }
      ]
    },
    {
      "cell_type": "code",
      "source": [
        "# Vocabulary\n",
        "vocab = {'<UNK>': 0}\n"
      ],
      "metadata": {
        "id": "La0tXTaqK_X2"
      },
      "execution_count": 10,
      "outputs": []
    },
    {
      "cell_type": "code",
      "source": [
        "def buildVocab(row):\n",
        "  tokenized_question = tokenize(row['question'])\n",
        "  tokenized_answer=tokenize(row['answer'])\n",
        "  merged_token = tokenized_question + tokenized_answer\n",
        "  for token in merged_token:\n",
        "    if token not in vocab:\n",
        "      vocab[token] = len(vocab)\n",
        "\n"
      ],
      "metadata": {
        "id": "HcQQZ5uZL4TS"
      },
      "execution_count": 11,
      "outputs": []
    },
    {
      "cell_type": "code",
      "source": [
        "df.apply(buildVocab, axis=1)"
      ],
      "metadata": {
        "colab": {
          "base_uri": "https://localhost:8080/",
          "height": 458
        },
        "id": "c6wTTlq6MJq0",
        "outputId": "36a9cfb3-ef73-4681-9c8c-2f2c3cc38616"
      },
      "execution_count": 12,
      "outputs": [
        {
          "output_type": "execute_result",
          "data": {
            "text/plain": [
              "0     None\n",
              "1     None\n",
              "2     None\n",
              "3     None\n",
              "4     None\n",
              "      ... \n",
              "85    None\n",
              "86    None\n",
              "87    None\n",
              "88    None\n",
              "89    None\n",
              "Length: 90, dtype: object"
            ],
            "text/html": [
              "<div>\n",
              "<style scoped>\n",
              "    .dataframe tbody tr th:only-of-type {\n",
              "        vertical-align: middle;\n",
              "    }\n",
              "\n",
              "    .dataframe tbody tr th {\n",
              "        vertical-align: top;\n",
              "    }\n",
              "\n",
              "    .dataframe thead th {\n",
              "        text-align: right;\n",
              "    }\n",
              "</style>\n",
              "<table border=\"1\" class=\"dataframe\">\n",
              "  <thead>\n",
              "    <tr style=\"text-align: right;\">\n",
              "      <th></th>\n",
              "      <th>0</th>\n",
              "    </tr>\n",
              "  </thead>\n",
              "  <tbody>\n",
              "    <tr>\n",
              "      <th>0</th>\n",
              "      <td>None</td>\n",
              "    </tr>\n",
              "    <tr>\n",
              "      <th>1</th>\n",
              "      <td>None</td>\n",
              "    </tr>\n",
              "    <tr>\n",
              "      <th>2</th>\n",
              "      <td>None</td>\n",
              "    </tr>\n",
              "    <tr>\n",
              "      <th>3</th>\n",
              "      <td>None</td>\n",
              "    </tr>\n",
              "    <tr>\n",
              "      <th>4</th>\n",
              "      <td>None</td>\n",
              "    </tr>\n",
              "    <tr>\n",
              "      <th>...</th>\n",
              "      <td>...</td>\n",
              "    </tr>\n",
              "    <tr>\n",
              "      <th>85</th>\n",
              "      <td>None</td>\n",
              "    </tr>\n",
              "    <tr>\n",
              "      <th>86</th>\n",
              "      <td>None</td>\n",
              "    </tr>\n",
              "    <tr>\n",
              "      <th>87</th>\n",
              "      <td>None</td>\n",
              "    </tr>\n",
              "    <tr>\n",
              "      <th>88</th>\n",
              "      <td>None</td>\n",
              "    </tr>\n",
              "    <tr>\n",
              "      <th>89</th>\n",
              "      <td>None</td>\n",
              "    </tr>\n",
              "  </tbody>\n",
              "</table>\n",
              "<p>90 rows × 1 columns</p>\n",
              "</div><br><label><b>dtype:</b> object</label>"
            ]
          },
          "metadata": {},
          "execution_count": 12
        }
      ]
    },
    {
      "cell_type": "code",
      "source": [
        "len(vocab)"
      ],
      "metadata": {
        "colab": {
          "base_uri": "https://localhost:8080/"
        },
        "id": "qb7ShKozNJXO",
        "outputId": "77388cca-09d2-45fa-99b7-51d81bffaf0b"
      },
      "execution_count": 13,
      "outputs": [
        {
          "output_type": "execute_result",
          "data": {
            "text/plain": [
              "324"
            ]
          },
          "metadata": {},
          "execution_count": 13
        }
      ]
    },
    {
      "cell_type": "code",
      "source": [
        "# convert words to numerical indices\n",
        "def text_to_indices(text, vocab):\n",
        "  indexed_text = []\n",
        "  for token in tokenize(text):\n",
        "    if token in vocab:\n",
        "      indexed_text.append(vocab[token])\n",
        "    else:\n",
        "      indexed_text.append(vocab['<UNK>'])\n",
        "  return indexed_text\n"
      ],
      "metadata": {
        "id": "DhXKLQghLAy7"
      },
      "execution_count": 14,
      "outputs": []
    },
    {
      "cell_type": "code",
      "source": [
        "text_to_indices(\"What is the capital of France?\", vocab)"
      ],
      "metadata": {
        "colab": {
          "base_uri": "https://localhost:8080/"
        },
        "id": "EqX0vZRiNtsw",
        "outputId": "f687c02e-ca67-438e-b3c7-b05a7f60ae97"
      },
      "execution_count": 15,
      "outputs": [
        {
          "output_type": "execute_result",
          "data": {
            "text/plain": [
              "[1, 2, 3, 4, 5, 6]"
            ]
          },
          "metadata": {},
          "execution_count": 15
        }
      ]
    },
    {
      "cell_type": "code",
      "source": [
        "class QADataset(Dataset):\n",
        "  def __init__(self, df, vocab):\n",
        "    self.df = df\n",
        "    self.vocab = vocab\n",
        "\n",
        "  def __len__(self):\n",
        "    return self.df.shape[0]\n",
        "\n",
        "  def __getitem__(self, idx):\n",
        "    numerical_questions = text_to_indices(self.df.iloc[idx]['question'], self.vocab)\n",
        "    numerical_answer = text_to_indices(self.df.iloc[idx]['answer'], self.vocab)\n",
        "    return torch.tensor(numerical_questions, dtype=torch.long), torch.tensor(numerical_answer, dtype=torch.long)"
      ],
      "metadata": {
        "id": "1K1_dQUXN74K"
      },
      "execution_count": 59,
      "outputs": []
    },
    {
      "cell_type": "code",
      "source": [
        "dataset = QADataset(df, vocab)\n"
      ],
      "metadata": {
        "id": "_5RepLQFOqoq"
      },
      "execution_count": 60,
      "outputs": []
    },
    {
      "cell_type": "code",
      "source": [
        "dataset[0]"
      ],
      "metadata": {
        "colab": {
          "base_uri": "https://localhost:8080/"
        },
        "id": "3LuGtXJgO4hu",
        "outputId": "ce479431-553d-4954-d0fe-87a82aaff6ea"
      },
      "execution_count": 61,
      "outputs": [
        {
          "output_type": "execute_result",
          "data": {
            "text/plain": [
              "(tensor([1, 2, 3, 4, 5, 6]), tensor([7]))"
            ]
          },
          "metadata": {},
          "execution_count": 61
        }
      ]
    },
    {
      "cell_type": "code",
      "source": [
        "dataloader = DataLoader(dataset, batch_size=1, shuffle=True)"
      ],
      "metadata": {
        "id": "_dQh4i6YPyOu"
      },
      "execution_count": 62,
      "outputs": []
    },
    {
      "cell_type": "code",
      "source": [],
      "metadata": {
        "id": "3c5Ux9ktYRcZ"
      },
      "execution_count": null,
      "outputs": []
    },
    {
      "cell_type": "code",
      "source": [
        "for questions, answers in dataloader:\n",
        "  print(questions)\n",
        "  print(answers)\n"
      ],
      "metadata": {
        "colab": {
          "base_uri": "https://localhost:8080/"
        },
        "collapsed": true,
        "id": "PYZsWHw7P7pi",
        "outputId": "5c69499f-bd1d-442f-edea-0e0a5370b249"
      },
      "execution_count": 63,
      "outputs": [
        {
          "output_type": "stream",
          "name": "stdout",
          "text": [
            "tensor([[  1,   2,   3,  37,  38,  39, 161]])\n",
            "tensor([[162]])\n",
            "tensor([[  1,   2,   3, 180, 181, 182, 183]])\n",
            "tensor([[184]])\n",
            "tensor([[ 42, 263, 264,  14, 265, 266, 158, 267]])\n",
            "tensor([[268]])\n",
            "tensor([[  1,   2,   3,   4,   5, 279]])\n",
            "tensor([[280]])\n",
            "tensor([[ 42, 137,   2,  62,  39,   3, 322, 323]])\n",
            "tensor([[6]])\n",
            "tensor([[  1,   2,   3, 103,   5, 104,  19, 105]])\n",
            "tensor([[106]])\n",
            "tensor([[ 10, 140,   3, 141, 270,  93, 271,   5,   3, 272]])\n",
            "tensor([[273]])\n",
            "tensor([[ 42, 216, 118, 217, 218,  19,  14, 219,  43]])\n",
            "tensor([[220]])\n",
            "tensor([[ 1,  2,  3, 92, 93, 94]])\n",
            "tensor([[95]])\n",
            "tensor([[ 42, 200,   2,  14, 201, 202, 203, 204]])\n",
            "tensor([[205]])\n",
            "tensor([[  1,   2,   3, 141, 117,  83,   3, 277, 278]])\n",
            "tensor([[121]])\n",
            "tensor([[ 10,  11, 189, 158, 190]])\n",
            "tensor([[191]])\n",
            "tensor([[ 42, 137,   2, 138,  39, 175, 269]])\n",
            "tensor([[99]])\n",
            "tensor([[10,  2,  3, 66,  5, 67]])\n",
            "tensor([[68]])\n",
            "tensor([[ 42, 250, 251, 118, 252, 253]])\n",
            "tensor([[254]])\n",
            "tensor([[ 10,   2,  62,  63,   3, 283,   5, 284]])\n",
            "tensor([[285]])\n",
            "tensor([[ 10,  96,   3, 104, 239]])\n",
            "tensor([[240]])\n",
            "tensor([[10, 96,  3, 97]])\n",
            "tensor([[98]])\n",
            "tensor([[  1,   2,   3,   4,   5, 286]])\n",
            "tensor([[287]])\n",
            "tensor([[ 78,  79, 150, 151,  14, 152, 153]])\n",
            "tensor([[154]])\n",
            "tensor([[ 1,  2,  3, 69,  5, 53]])\n",
            "tensor([[260]])\n",
            "tensor([[  1,   2,   3,  92, 137,  19,   3,  45]])\n",
            "tensor([[185]])\n",
            "tensor([[ 1,  2,  3,  4,  5, 53]])\n",
            "tensor([[54]])\n",
            "tensor([[ 42,  18, 118,   3, 186, 187]])\n",
            "tensor([[188]])\n",
            "tensor([[10, 11, 12, 13, 14, 15]])\n",
            "tensor([[16]])\n",
            "tensor([[ 42, 167,   2,   3,  17, 168, 169]])\n",
            "tensor([[170]])\n",
            "tensor([[10, 29,  3, 30, 31]])\n",
            "tensor([[32]])\n",
            "tensor([[  1,   2,   3, 122, 123,  19,   3,  45]])\n",
            "tensor([[124]])\n",
            "tensor([[ 10, 140,   3, 141, 171,   5,   3,  70, 172]])\n",
            "tensor([[173]])\n",
            "tensor([[ 42, 299, 300, 118,  14, 301, 302, 158, 303, 304, 305, 306]])\n",
            "tensor([[307]])\n",
            "tensor([[ 1,  2,  3, 59, 25,  5, 26, 19, 60]])\n",
            "tensor([[61]])\n",
            "tensor([[ 42, 137,   2, 138,  39, 139]])\n",
            "tensor([[53]])\n",
            "tensor([[ 42, 117, 118,   3, 119,  94, 120]])\n",
            "tensor([[121]])\n",
            "tensor([[ 78,  79, 261, 151,  14, 262, 153]])\n",
            "tensor([[36]])\n",
            "tensor([[  1,   2,   3,   4,   5, 113]])\n",
            "tensor([[114]])\n",
            "tensor([[ 10, 140,   3, 141, 142,  12, 143,  83,   3, 144]])\n",
            "tensor([[145]])\n",
            "tensor([[ 78,  79, 195,  81,  19,   3, 196, 197, 198]])\n",
            "tensor([[199]])\n",
            "tensor([[  1,   2,   3, 163, 164, 165,  83,  84]])\n",
            "tensor([[166]])\n",
            "tensor([[ 42, 137, 118,   3, 247,   5, 248]])\n",
            "tensor([[249]])\n",
            "tensor([[42, 18,  2, 62, 63,  3, 64, 18]])\n",
            "tensor([[65]])\n",
            "tensor([[ 10,  11, 157, 158, 159]])\n",
            "tensor([[160]])\n",
            "tensor([[ 1,  2,  3, 24, 25,  5, 26, 19, 27]])\n",
            "tensor([[28]])\n",
            "tensor([[1, 2, 3, 4, 5, 8]])\n",
            "tensor([[9]])\n",
            "tensor([[1, 2, 3, 4, 5, 6]])\n",
            "tensor([[7]])\n",
            "tensor([[  1,   2,   3, 234,   5, 235]])\n",
            "tensor([[131]])\n",
            "tensor([[ 42, 255,   2, 256,  83, 257, 258]])\n",
            "tensor([[259]])\n",
            "tensor([[10, 55,  3, 56,  5, 57]])\n",
            "tensor([[58]])\n",
            "tensor([[10, 75, 76]])\n",
            "tensor([[77]])\n",
            "tensor([[ 1,  2,  3, 17, 18, 19, 20, 21, 22]])\n",
            "tensor([[23]])\n",
            "tensor([[ 42,   2,   3, 274, 211, 275]])\n",
            "tensor([[276]])\n",
            "tensor([[ 42, 318,   2,  62,  63,   3, 319,   5, 320]])\n",
            "tensor([[321]])\n",
            "tensor([[  1,   2,   3,  37, 133,   5,  26]])\n",
            "tensor([[134]])\n",
            "tensor([[ 42, 137,   2, 226,  12,   3, 227, 228]])\n",
            "tensor([[155]])\n",
            "tensor([[ 42, 290, 291, 118, 292, 158, 293, 294]])\n",
            "tensor([[295]])\n",
            "tensor([[ 10,  75, 208]])\n",
            "tensor([[209]])\n",
            "tensor([[  1,   2,   3, 146,  86,  19, 192, 193]])\n",
            "tensor([[194]])\n",
            "tensor([[ 42,  86,  87, 241, 242,  19,  39, 243]])\n",
            "tensor([[244]])\n",
            "tensor([[  1,   2,   3, 212,   5,  14, 213, 214]])\n",
            "tensor([[215]])\n",
            "tensor([[ 42,  18,   2,   3, 281,  12,   3, 282]])\n",
            "tensor([[205]])\n",
            "tensor([[  1,   2,   3,   4,   5, 206]])\n",
            "tensor([[207]])\n",
            "tensor([[ 1,  2,  3, 69,  5,  3, 70, 71]])\n",
            "tensor([[72]])\n",
            "tensor([[ 42, 125,   2,  62,  63,   3, 126, 127]])\n",
            "tensor([[128]])\n",
            "tensor([[78, 79, 80, 81, 82, 83, 84]])\n",
            "tensor([[85]])\n",
            "tensor([[  1,   2,   3,   4,   5, 109]])\n",
            "tensor([[317]])\n",
            "tensor([[ 1,  2,  3, 33, 34,  5, 35]])\n",
            "tensor([[36]])\n",
            "tensor([[ 10, 308,   3, 309, 310]])\n",
            "tensor([[311]])\n",
            "tensor([[  1,   2,   3,   4,   5, 236, 237]])\n",
            "tensor([[238]])\n",
            "tensor([[ 1,  2,  3, 50, 51, 19,  3, 45]])\n",
            "tensor([[52]])\n",
            "tensor([[ 42, 312,   2, 313,  62,  63,   3, 314, 315]])\n",
            "tensor([[316]])\n",
            "tensor([[ 10,  75,   3, 296,  19, 297]])\n",
            "tensor([[298]])\n",
            "tensor([[ 10,  29, 130, 131]])\n",
            "tensor([[132]])\n",
            "tensor([[  1,   2,   3,  33,  34,   5, 245]])\n",
            "tensor([[246]])\n",
            "tensor([[  1,   2,   3, 221,   5, 222, 223, 224]])\n",
            "tensor([[225]])\n",
            "tensor([[ 10,  75, 111]])\n",
            "tensor([[112]])\n",
            "tensor([[ 42, 174,   2,  62,  39, 175, 176,  12, 177, 178]])\n",
            "tensor([[179]])\n",
            "tensor([[  1,   2,   3,  17, 115,  83,  84]])\n",
            "tensor([[116]])\n",
            "tensor([[42, 43, 44, 45, 46, 47, 48]])\n",
            "tensor([[49]])\n",
            "tensor([[ 1,  2,  3, 37, 38, 39, 40]])\n",
            "tensor([[41]])\n",
            "tensor([[ 1,  2,  3,  4,  5, 99]])\n",
            "tensor([[100]])\n",
            "tensor([[  1,   2,   3,  69,   5, 155]])\n",
            "tensor([[156]])\n",
            "tensor([[42, 86, 87, 88, 89, 39, 90]])\n",
            "tensor([[91]])\n",
            "tensor([[ 78,  79, 129,  81,  19,   3,  21,  22]])\n",
            "tensor([[36]])\n",
            "tensor([[  1,   2,   3,   4,   5, 135]])\n",
            "tensor([[136]])\n",
            "tensor([[ 1,  2,  3,  4,  5, 73]])\n",
            "tensor([[74]])\n",
            "tensor([[ 42, 107,   2, 108,  19, 109]])\n",
            "tensor([[110]])\n",
            "tensor([[ 78,  79, 288,  81,  19,  14, 289]])\n",
            "tensor([[85]])\n",
            "tensor([[ 42,   2,   3, 210, 137, 168, 211, 169]])\n",
            "tensor([[113]])\n",
            "tensor([[ 42, 101,   2,   3,  17]])\n",
            "tensor([[102]])\n",
            "tensor([[  1,  87, 229, 230, 231, 232]])\n",
            "tensor([[233]])\n",
            "tensor([[  1,   2,   3, 146, 147,  19, 148]])\n",
            "tensor([[149]])\n"
          ]
        }
      ]
    },
    {
      "cell_type": "code",
      "source": [
        "class SimpleRNN(nn.Module):\n",
        "  def __init__(self, vocab_size):\n",
        "    super().__init__();\n",
        "    self.embading = nn.Embedding(vocab_size, embedding_dim=50);\n",
        "    self.rnn = nn.RNN(50, 64, batch_first=True)\n",
        "    self.fc = nn.Linear(64, vocab_size)\n",
        "\n",
        "  def forward(self, question):\n",
        "    embeded_question =  self.embading(question)\n",
        "    hidden, final  =self.rnn(embeded_question)\n",
        "    output = self.fc(final.squeeze(0))\n",
        "    return output;"
      ],
      "metadata": {
        "id": "ATIMJn5wQN1E"
      },
      "execution_count": 69,
      "outputs": []
    },
    {
      "cell_type": "code",
      "source": [
        "learing_rate = 0.001\n",
        "epochs = 20"
      ],
      "metadata": {
        "id": "_RpVR6u6Ubk8"
      },
      "execution_count": 70,
      "outputs": []
    },
    {
      "cell_type": "code",
      "source": [
        "model = SimpleRNN(len(vocab))\n"
      ],
      "metadata": {
        "id": "MxwBLDMoVH8o"
      },
      "execution_count": 71,
      "outputs": []
    },
    {
      "cell_type": "code",
      "source": [
        "criterion = nn.CrossEntropyLoss()\n",
        "optimizer =  torch.optim.Adam(model.parameters(), lr=learing_rate)"
      ],
      "metadata": {
        "id": "oE2itlvTUhN4"
      },
      "execution_count": 72,
      "outputs": []
    },
    {
      "cell_type": "code",
      "source": [
        "for epoch in range(epochs):\n",
        "  total_loss = 0\n",
        "\n",
        "  for questions, answer in dataloader:\n",
        "\n",
        "    optimizer.zero_grad()\n",
        "\n",
        "    output = model(questions)\n",
        "    output.shape\n",
        "    #loss -> output shape (1, 324) - (1)\n",
        "    loss = criterion(output, answer[0])\n",
        "\n",
        "    loss.backward()\n",
        "\n",
        "    optimizer.step()\n",
        "\n",
        "    total_loss += loss.item() #Total loss, so it's not avrg lost\n",
        "  print(f\"Epoch: {epoch+1}, Loss: {total_loss:4f}\")\n",
        "\n"
      ],
      "metadata": {
        "colab": {
          "base_uri": "https://localhost:8080/"
        },
        "id": "EFoRXcGoVZtH",
        "outputId": "1ffb0a2b-d6ac-4e0b-834e-112879458f49"
      },
      "execution_count": 74,
      "outputs": [
        {
          "output_type": "stream",
          "name": "stdout",
          "text": [
            "Epoch: 1, Loss: 10.188361\n",
            "Epoch: 2, Loss: 8.962585\n",
            "Epoch: 3, Loss: 7.872274\n",
            "Epoch: 4, Loss: 7.031404\n",
            "Epoch: 5, Loss: 6.333329\n",
            "Epoch: 6, Loss: 5.707768\n",
            "Epoch: 7, Loss: 5.167884\n",
            "Epoch: 8, Loss: 4.677187\n",
            "Epoch: 9, Loss: 4.284064\n",
            "Epoch: 10, Loss: 3.918984\n",
            "Epoch: 11, Loss: 3.601120\n",
            "Epoch: 12, Loss: 3.323801\n",
            "Epoch: 13, Loss: 3.062444\n",
            "Epoch: 14, Loss: 2.840604\n",
            "Epoch: 15, Loss: 2.628682\n",
            "Epoch: 16, Loss: 2.441478\n",
            "Epoch: 17, Loss: 2.267083\n",
            "Epoch: 18, Loss: 2.114633\n",
            "Epoch: 19, Loss: 1.974969\n",
            "Epoch: 20, Loss: 1.843546\n"
          ]
        }
      ]
    },
    {
      "cell_type": "code",
      "source": [
        "def predict(model, question, thresold=0.5):\n",
        "  # convert questions to numbers\n",
        "  numerical_question =  text_to_indices(question, vocab)\n",
        "  question_tensor = torch.tensor(numerical_question, dtype=torch.long).unsqueeze(0)\n",
        "  ouptut = model(question_tensor)\n",
        "  probs = torch.nn.functional.softmax(ouptut, dim=1)\n",
        "  value, index = torch.max(probs, dim=1)\n",
        "\n",
        "  if value < thresold:\n",
        "    print(\"I don't know the answer\")\n",
        "\n",
        "  print(value, index)\n",
        "  # predict"
      ],
      "metadata": {
        "id": "AEzJaaftY46F"
      },
      "execution_count": 75,
      "outputs": []
    },
    {
      "cell_type": "code",
      "source": [
        "predict(model, \"What is Capital of Bangladesh?\")"
      ],
      "metadata": {
        "colab": {
          "base_uri": "https://localhost:8080/"
        },
        "id": "LNCbiH89aCAX",
        "outputId": "a5ac43c5-7eb9-41f8-f45d-5002dbff1e6e"
      },
      "execution_count": 84,
      "outputs": [
        {
          "output_type": "stream",
          "name": "stdout",
          "text": [
            "tensor([0.1675], grad_fn=<MaxBackward0>) tensor([287])\n"
          ]
        }
      ]
    },
    {
      "cell_type": "code",
      "source": [
        "list(vocab.keys())[287]"
      ],
      "metadata": {
        "colab": {
          "base_uri": "https://localhost:8080/",
          "height": 35
        },
        "id": "71q5mDzubG9k",
        "outputId": "5ccd8905-68ee-44f9-b893-a493c8fbad56"
      },
      "execution_count": 85,
      "outputs": [
        {
          "output_type": "execute_result",
          "data": {
            "text/plain": [
              "'mexicocity'"
            ],
            "application/vnd.google.colaboratory.intrinsic+json": {
              "type": "string"
            }
          },
          "metadata": {},
          "execution_count": 85
        }
      ]
    }
  ]
}