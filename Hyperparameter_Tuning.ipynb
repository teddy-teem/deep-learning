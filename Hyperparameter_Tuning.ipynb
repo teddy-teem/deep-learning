{
  "nbformat": 4,
  "nbformat_minor": 0,
  "metadata": {
    "colab": {
      "provenance": [],
      "gpuType": "T4",
      "include_colab_link": true
    },
    "kernelspec": {
      "name": "python3",
      "display_name": "Python 3"
    },
    "language_info": {
      "name": "python"
    },
    "accelerator": "GPU"
  },
  "cells": [
    {
      "cell_type": "markdown",
      "metadata": {
        "id": "view-in-github",
        "colab_type": "text"
      },
      "source": [
        "<a href=\"https://colab.research.google.com/github/teddy-teem/deep-learning/blob/master/Hyperparameter_Tuning.ipynb\" target=\"_parent\"><img src=\"https://colab.research.google.com/assets/colab-badge.svg\" alt=\"Open In Colab\"/></a>"
      ]
    },
    {
      "cell_type": "code",
      "execution_count": null,
      "metadata": {
        "id": "ueJxsRjDmR-Y"
      },
      "outputs": [],
      "source": [
        "import pandas as pd\n",
        "import torch\n",
        "from sklearn.model_selection import train_test_split\n",
        "from torch.utils.data import Dataset, DataLoader\n",
        "import torch.nn as nn\n",
        "import matplotlib.pyplot as plt\n",
        "import torch.optim as optim\n"
      ]
    },
    {
      "cell_type": "code",
      "source": [
        "device = torch.device(\"cuda\" if torch.cuda.is_available() else \"cpu\")\n",
        "device"
      ],
      "metadata": {
        "colab": {
          "base_uri": "https://localhost:8080/"
        },
        "id": "wtXXmxn1na_j",
        "outputId": "24588b1a-21f9-4e71-f5b5-8fb18911ee55"
      },
      "execution_count": null,
      "outputs": [
        {
          "output_type": "execute_result",
          "data": {
            "text/plain": [
              "device(type='cuda')"
            ]
          },
          "metadata": {},
          "execution_count": 2
        }
      ]
    },
    {
      "cell_type": "code",
      "source": [
        "torch.manual_seed(42)"
      ],
      "metadata": {
        "colab": {
          "base_uri": "https://localhost:8080/"
        },
        "id": "cFfvmjF_nHkt",
        "outputId": "ae1d92e6-b6eb-41b6-a4fe-34f1667529f9"
      },
      "execution_count": null,
      "outputs": [
        {
          "output_type": "execute_result",
          "data": {
            "text/plain": [
              "<torch._C.Generator at 0x7ee99c3ecdf0>"
            ]
          },
          "metadata": {},
          "execution_count": 3
        }
      ]
    },
    {
      "cell_type": "code",
      "source": [
        "from google.colab import drive\n",
        "drive.mount('/content/drive')\n"
      ],
      "metadata": {
        "colab": {
          "base_uri": "https://localhost:8080/"
        },
        "id": "0vebLwheBVm8",
        "outputId": "42b7c249-a66d-4b5e-8b81-255ff6c5904d"
      },
      "execution_count": null,
      "outputs": [
        {
          "output_type": "stream",
          "name": "stdout",
          "text": [
            "Mounted at /content/drive\n"
          ]
        }
      ]
    },
    {
      "cell_type": "code",
      "source": [
        "file_path = '/content/drive/My Drive/Datasets/dataset-MNIST-fashion/mnist_fashion_train.csv'"
      ],
      "metadata": {
        "id": "5TMYwlnMBlQk"
      },
      "execution_count": null,
      "outputs": []
    },
    {
      "cell_type": "code",
      "source": [
        "df = pd.read_csv(file_path)\n",
        "df.shape"
      ],
      "metadata": {
        "colab": {
          "base_uri": "https://localhost:8080/"
        },
        "id": "yklrkoVvoUrb",
        "outputId": "c9e07aae-4db2-4a4b-c82b-129e48c4550d"
      },
      "execution_count": null,
      "outputs": [
        {
          "output_type": "execute_result",
          "data": {
            "text/plain": [
              "(60000, 785)"
            ]
          },
          "metadata": {},
          "execution_count": 6
        }
      ]
    },
    {
      "cell_type": "code",
      "source": [
        "fig, axes = plt.subplots(4,4, figsize=(10, 10))\n",
        "fig.suptitle(\"first 16 images\", fontsize=16)\n",
        "\n",
        "for i, ax in enumerate(axes.flat):\n",
        "    img = df.iloc[i, 1:].values.reshape(28,28)\n",
        "    ax.axis('off')\n",
        "    ax.set_title(df.iloc[i, 0])\n",
        "    ax.imshow(img, cmap='gray')\n",
        "\n",
        "plt.show()"
      ],
      "metadata": {
        "colab": {
          "base_uri": "https://localhost:8080/",
          "height": 907
        },
        "id": "I8WU5FvipoV9",
        "outputId": "9ad040a2-857a-4a72-da01-c41365163e8d"
      },
      "execution_count": null,
      "outputs": [
        {
          "output_type": "display_data",
          "data": {
            "text/plain": [
              "<Figure size 1000x1000 with 16 Axes>"
            ],
            "image/png": "[encoded data removed]"
          },
          "metadata": {}
        }
      ]
    },
    {
      "cell_type": "code",
      "source": [
        "X = df.iloc[:, 1:].values\n",
        "y = df.iloc[:, 0].values"
      ],
      "metadata": {
        "id": "orrXileNp1Z2"
      },
      "execution_count": null,
      "outputs": []
    },
    {
      "cell_type": "code",
      "source": [
        "X_train, X_test, y_train, y_test = train_test_split(X, y, test_size=0.2, random_state=42)"
      ],
      "metadata": {
        "id": "vPx8MTYQp31y"
      },
      "execution_count": null,
      "outputs": []
    },
    {
      "cell_type": "code",
      "source": [
        "# For better tuning, the pixel value should be between 0 to 1 that why we devided by 255 each\n",
        "X_train = X_train / 255.0\n",
        "X_test = X_test / 255.0"
      ],
      "metadata": {
        "id": "0VmeNo8dp6Bn"
      },
      "execution_count": null,
      "outputs": []
    },
    {
      "cell_type": "code",
      "source": [
        "# Custom Dataset class\n",
        "class CustomDataset(Dataset):\n",
        "    def __init__(self, features, labels):\n",
        "        self.features =torch.tensor(features, dtype=torch.float32)\n",
        "        self.labels = torch.tensor(labels, dtype=torch.long)\n",
        "\n",
        "    def __getitem__(self, index):\n",
        "        return self.features[index], self.labels[index]\n",
        "\n",
        "    def __len__(self):\n",
        "        return len(self.features)"
      ],
      "metadata": {
        "id": "4WHi-I71p8H-"
      },
      "execution_count": null,
      "outputs": []
    },
    {
      "cell_type": "code",
      "source": [
        "train_dataset = CustomDataset(X_train, y_train)\n",
        "test_dataset = CustomDataset(X_test, y_test)"
      ],
      "metadata": {
        "id": "hau-exSpp-lx"
      },
      "execution_count": null,
      "outputs": []
    },
    {
      "cell_type": "code",
      "source": [],
      "metadata": {
        "id": "iZyGYqgJqA9E"
      },
      "execution_count": null,
      "outputs": []
    },
    {
      "cell_type": "code",
      "source": [
        "class MyNN(nn.Module):\n",
        "  def __init__(self, input_dim, output_dim, num_hidden_layers, neurons_per_layer, dropout_rate):\n",
        "    super().__init__()\n",
        "\n",
        "    layers = []\n",
        "    for i in range(num_hidden_layers):\n",
        "      layers.append(nn.Linear(input_dim, neurons_per_layer))\n",
        "      layers.append(nn.BatchNorm1d(neurons_per_layer))\n",
        "      layers.append(nn.ReLU())\n",
        "      layers.append(nn.Dropout(dropout_rate))\n",
        "      input_dim = neurons_per_layer\n",
        "    layers.append(nn.Linear(neurons_per_layer, output_dim))\n",
        "    self.model = nn.Sequential(*layers)\n",
        "\n",
        "  def forward(self, x):\n",
        "    return self.model(x)\n"
      ],
      "metadata": {
        "id": "k_iCpmqey_Fm"
      },
      "execution_count": null,
      "outputs": []
    },
    {
      "cell_type": "code",
      "source": [
        "# objective function\n",
        "\n",
        "def objective(trial):\n",
        "  # next trial's Hyperparameters values from the search space\n",
        "  num_hidden_a = trial.suggest_int(\"num_hidden_layers\", 1, 5)\n",
        "  neurons_per_layer = trial.suggest_int(\"neurons_per_layer\", 8, 128, step=8)\n",
        "  epochs = trial.suggest_int(\"epochs\", 10, 100, step=10)\n",
        "  learning_rate = trial.suggest_float(\"learning_rate\", 1e-5, 1e-1, log=True)\n",
        "  dropout_rate = trial.suggest_float(\"dropout_rate\", 0.2, 0.5, step=0.1)\n",
        "  batch_size = trial.suggest_categorical(\"batch_size\", [16, 32, 64, 128])\n",
        "  optimizer_name = trial.suggest_categorical(\"optimizer\", [\"Adam\", \"SGD\", \"RMSprop\"])\n",
        "  weight_decay = trial.suggest_float(\"weight_decay\", 1e-5, 1e-3, log=True)\n",
        "\n",
        "  # data loader\n",
        "  train_loader = DataLoader(train_dataset, batch_size=batch_size, shuffle=True, pin_memory=True) # pin_memory=True to speed up the process\n",
        "  test_loader = DataLoader(test_dataset, batch_size=batch_size, shuffle=False)\n",
        "\n",
        "  # model init\n",
        "  input_dim = 784\n",
        "  output_dim = 10\n",
        "  model = MyNN(input_dim, output_dim, num_hidden_a, neurons_per_layer, dropout_rate)\n",
        "  model.to(device)\n",
        "\n",
        "  #optimizer selection\n",
        "  criterion = nn.CrossEntropyLoss()\n",
        "  optimizer = optim.SGD(model.parameters(), lr=learning_rate, weight_decay=1e-4)\n",
        "\n",
        "  if optimizer_name == \"Adam\":\n",
        "    optimizer = optim.Adam(model.parameters(), lr=learning_rate, weight_decay=1e-4)\n",
        "  elif optimizer_name == \"RMSprop\":\n",
        "    optimizer = optim.RMSprop(model.parameters(), lr=learning_rate, weight_decay=1e-4)\n",
        "  else:\n",
        "    optim.SGD(model.parameters(), lr=learning_rate, weight_decay=1e-4)\n",
        "\n",
        "  # training loop\n",
        "  for epoch in range(epochs):\n",
        "    total_epoch_loss = 0\n",
        "    for batch_features, batch_labels in train_loader:\n",
        "     batch_features = batch_features.to(device)\n",
        "     batch_labels = batch_labels.to(device)\n",
        "     out = model(batch_features)\n",
        "     loss = criterion(out, batch_labels)\n",
        "     optimizer.zero_grad()\n",
        "     loss.backward()\n",
        "     optimizer.step()\n",
        "\n",
        "     total_epoch_loss += loss.item()\n",
        "\n",
        "    print(f\"Epoch {epoch+1}, Loss: {total_epoch_loss/len(train_loader)}\")\n",
        "\n",
        "  # evaluation\n",
        "  model.eval()\n",
        "  total = 0\n",
        "  correct = 0\n",
        "\n",
        "  with torch.no_grad():\n",
        "    for batch_features, batch_labels in test_loader:\n",
        "      batch_features = batch_features.to(device)\n",
        "      batch_labels = batch_labels.to(device)\n",
        "      out = model(batch_features)\n",
        "      _, predicted = torch.max(out.data, 1)\n",
        "      total += batch_labels.shape[0]\n",
        "      correct += (predicted == batch_labels).sum().item()\n",
        "\n",
        "  accuracy=100 * correct / total\n",
        "\n",
        "  return accuracy"
      ],
      "metadata": {
        "id": "T62dd1D8x-Sd"
      },
      "execution_count": null,
      "outputs": []
    },
    {
      "cell_type": "code",
      "source": [
        "!pip install optuna"
      ],
      "metadata": {
        "colab": {
          "base_uri": "https://localhost:8080/"
        },
        "id": "zeXYg-BU2wM3",
        "outputId": "16edec91-bfc2-4ac8-968d-b7f0c1160cec"
      },
      "execution_count": null,
      "outputs": [
        {
          "output_type": "stream",
          "name": "stdout",
          "text": [
            "Collecting optuna\n",
            "  Downloading optuna-4.4.0-py3-none-any.whl.metadata (17 kB)\n",
            "Collecting alembic>=1.5.0 (from optuna)\n",
            "  Downloading alembic-1.16.4-py3-none-any.whl.metadata (7.3 kB)\n",
            "Collecting colorlog (from optuna)\n",
            "  Downloading colorlog-6.9.0-py3-none-any.whl.metadata (10 kB)\n",
            "Requirement already satisfied: numpy in /usr/local/lib/python3.11/dist-packages (from optuna) (2.0.2)\n",
            "Requirement already satisfied: packaging>=20.0 in /usr/local/lib/python3.11/dist-packages (from optuna) (24.2)\n",
            "Requirement already satisfied: sqlalchemy>=1.4.2 in /usr/local/lib/python3.11/dist-packages (from optuna) (2.0.41)\n",
            "Requirement already satisfied: tqdm in /usr/local/lib/python3.11/dist-packages (from optuna) (4.67.1)\n",
            "Requirement already satisfied: PyYAML in /usr/local/lib/python3.11/dist-packages (from optuna) (6.0.2)\n",
            "Requirement already satisfied: Mako in /usr/lib/python3/dist-packages (from alembic>=1.5.0->optuna) (1.1.3)\n",
            "Requirement already satisfied: typing-extensions>=4.12 in /usr/local/lib/python3.11/dist-packages (from alembic>=1.5.0->optuna) (4.14.1)\n",
            "Requirement already satisfied: greenlet>=1 in /usr/local/lib/python3.11/dist-packages (from sqlalchemy>=1.4.2->optuna) (3.2.3)\n",
            "Downloading optuna-4.4.0-py3-none-any.whl (395 kB)\n",
            "\u001b[2K   \u001b[90m━━━━━━━━━━━━━━━━━━━━━━━━━━━━━━━━━━━━━━━━\u001b[0m \u001b[32m395.9/395.9 kB\u001b[0m \u001b[31m24.0 MB/s\u001b[0m eta \u001b[36m0:00:00\u001b[0m\n",
            "\u001b[?25hDownloading alembic-1.16.4-py3-none-any.whl (247 kB)\n",
            "\u001b[2K   \u001b[90m━━━━━━━━━━━━━━━━━━━━━━━━━━━━━━━━━━━━━━━━\u001b[0m \u001b[32m247.0/247.0 kB\u001b[0m \u001b[31m20.6 MB/s\u001b[0m eta \u001b[36m0:00:00\u001b[0m\n",
            "\u001b[?25hDownloading colorlog-6.9.0-py3-none-any.whl (11 kB)\n",
            "Installing collected packages: colorlog, alembic, optuna\n",
            "Successfully installed alembic-1.16.4 colorlog-6.9.0 optuna-4.4.0\n"
          ]
        }
      ]
    },
    {
      "cell_type": "code",
      "source": [
        "import optuna\n",
        "\n",
        "study = optuna.create_study(direction=\"maximize\")\n"
      ],
      "metadata": {
        "colab": {
          "base_uri": "https://localhost:8080/"
        },
        "id": "uiizzYWG20dp",
        "outputId": "2a3bee96-ef8b-4d6e-d21f-1ffd1ae7e29f"
      },
      "execution_count": null,
      "outputs": [
        {
          "output_type": "stream",
          "name": "stderr",
          "text": [
            "[I 2025-07-15 17:30:44,791] A new study created in memory with name: no-name-bf3aa9b5-e0fd-499b-91cd-b6987893f67c\n"
          ]
        }
      ]
    },
    {
      "cell_type": "code",
      "source": [
        "study.optimize(objective, n_trials=50)"
      ],
      "metadata": {
        "colab": {
          "base_uri": "https://localhost:8080/",
          "height": 1000
        },
        "id": "1mA8WWM-3DE2",
        "outputId": "e8538147-605c-46e6-f439-75c4a41c7b50"
      },
      "execution_count": null,
      "outputs": [
        {
          "metadata": {
            "tags": null
          },
          "name": "stdout",
          "output_type": "stream",
          "text": [
            "Epoch 1, Loss: 0.7782278867562612\n",
            "Epoch 2, Loss: 0.6410791554848353\n",
            "Epoch 3, Loss: 0.6176591178973516\n",
            "Epoch 4, Loss: 0.6062265564997991\n",
            "Epoch 5, Loss: 0.6052949308951696\n",
            "Epoch 6, Loss: 0.6039797999461491\n",
            "Epoch 7, Loss: 0.6032202521165212\n",
            "Epoch 8, Loss: 0.6032015809218089\n",
            "Epoch 9, Loss: 0.595425909837087\n",
            "Epoch 10, Loss: 0.6085987553596497\n",
            "Epoch 11, Loss: 0.6019191140731176\n",
            "Epoch 12, Loss: 0.6019335836569468\n",
            "Epoch 13, Loss: 0.5964481815894445\n",
            "Epoch 14, Loss: 0.5958421780665716\n",
            "Epoch 15, Loss: 0.5980685529311498\n",
            "Epoch 16, Loss: 0.5972554384668668\n",
            "Epoch 17, Loss: 0.5992592494090399\n",
            "Epoch 18, Loss: 0.5925921991268793\n",
            "Epoch 19, Loss: 0.5951510524749756\n",
            "Epoch 20, Loss: 0.5955349061489105\n",
            "Epoch 21, Loss: 0.5944489797353745\n",
            "Epoch 22, Loss: 0.592289040406545\n",
            "Epoch 23, Loss: 0.5925712291399637\n",
            "Epoch 24, Loss: 0.5929480526447296\n",
            "Epoch 25, Loss: 0.5931064592202504\n",
            "Epoch 26, Loss: 0.5950933369000753\n",
            "Epoch 27, Loss: 0.5943992225726445\n",
            "Epoch 28, Loss: 0.5938462136983872\n",
            "Epoch 29, Loss: 0.5879669995307922\n",
            "Epoch 30, Loss: 0.5896714668273926\n",
            "Epoch 31, Loss: 0.595701909383138\n",
            "Epoch 32, Loss: 0.5948191653092703\n",
            "Epoch 33, Loss: 0.5972140419085821\n",
            "Epoch 34, Loss: 0.5945438286860784\n",
            "Epoch 35, Loss: 0.595561061779658\n",
            "Epoch 36, Loss: 0.5946645580132802\n",
            "Epoch 37, Loss: 0.589313379406929\n",
            "Epoch 38, Loss: 0.5925796833435695\n",
            "Epoch 39, Loss: 0.586994623541832\n",
            "Epoch 40, Loss: 0.5961540583372116\n",
            "Epoch 41, Loss: 0.5881604973077774\n",
            "Epoch 42, Loss: 0.5923868563175202\n",
            "Epoch 43, Loss: 0.5922006100813548\n",
            "Epoch 44, Loss: 0.593566388964653\n",
            "Epoch 45, Loss: 0.5889528189102808\n",
            "Epoch 46, Loss: 0.5923001539707183\n",
            "Epoch 47, Loss: 0.5887312077283859\n",
            "Epoch 48, Loss: 0.5925819600820541\n",
            "Epoch 49, Loss: 0.5951857933998108\n",
            "Epoch 50, Loss: 0.5924231377442678\n",
            "Epoch 51, Loss: 0.5883305685917536\n",
            "Epoch 52, Loss: 0.5889902345339457\n",
            "Epoch 53, Loss: 0.592480308453242\n",
            "Epoch 54, Loss: 0.589559987783432\n",
            "Epoch 55, Loss: 0.584022675593694\n",
            "Epoch 56, Loss: 0.591460005402565\n",
            "Epoch 57, Loss: 0.5924884341557821\n",
            "Epoch 58, Loss: 0.5908539913892746\n",
            "Epoch 59, Loss: 0.591943542877833\n",
            "Epoch 60, Loss: 0.5922741226752599\n",
            "Epoch 61, Loss: 0.5861659060716629\n",
            "Epoch 62, Loss: 0.5907221464713415\n",
            "Epoch 63, Loss: 0.5847655472358068\n",
            "Epoch 64, Loss: 0.5878299748500189\n",
            "Epoch 65, Loss: 0.590116201321284\n",
            "Epoch 66, Loss: 0.5877368909120559\n",
            "Epoch 67, Loss: 0.5912797145843506\n",
            "Epoch 68, Loss: 0.5879998976389567\n",
            "Epoch 69, Loss: 0.5929727646509806\n",
            "Epoch 70, Loss: 0.5919356408913931\n"
          ]
        },
        {
          "metadata": {
            "tags": null
          },
          "name": "stderr",
          "output_type": "stream",
          "text": [
            "[I 2025-07-15 17:33:29,487] Trial 0 finished with value: 83.48333333333333 and parameters: {'num_hidden_layers': 3, 'neurons_per_layer': 64, 'epochs': 70, 'learning_rate': 0.008379743001239661, 'dropout_rate': 0.4, 'batch_size': 64, 'optimizer': 'Adam', 'weight_decay': 1.6487773520205885e-05}. Best is trial 0 with value: 83.48333333333333.\n"
          ]
        },
        {
          "metadata": {
            "tags": null
          },
          "name": "stdout",
          "output_type": "stream",
          "text": [
            "Epoch 1, Loss: 1.68203533522288\n",
            "Epoch 2, Loss: 1.110332128047943\n",
            "Epoch 3, Loss: 0.8655115184783936\n",
            "Epoch 4, Loss: 0.7315633467833201\n",
            "Epoch 5, Loss: 0.6414402026335398\n",
            "Epoch 6, Loss: 0.588910197575887\n",
            "Epoch 7, Loss: 0.5507334023316701\n",
            "Epoch 8, Loss: 0.5194689134756724\n",
            "Epoch 9, Loss: 0.4989699157079061\n",
            "Epoch 10, Loss: 0.4826442914009094\n",
            "Epoch 11, Loss: 0.4701685107549032\n",
            "Epoch 12, Loss: 0.4605274725755056\n",
            "Epoch 13, Loss: 0.44493602856000264\n",
            "Epoch 14, Loss: 0.4353729114532471\n",
            "Epoch 15, Loss: 0.42896949529647826\n",
            "Epoch 16, Loss: 0.4252572671175003\n",
            "Epoch 17, Loss: 0.41500637884934743\n",
            "Epoch 18, Loss: 0.4111407713095347\n",
            "Epoch 19, Loss: 0.40153336675961815\n",
            "Epoch 20, Loss: 0.40028621125221253\n",
            "Epoch 21, Loss: 0.39687288530667625\n",
            "Epoch 22, Loss: 0.3906432868242264\n",
            "Epoch 23, Loss: 0.38741612728436786\n",
            "Epoch 24, Loss: 0.38602019123236336\n",
            "Epoch 25, Loss: 0.3774867013692856\n",
            "Epoch 26, Loss: 0.3778787015279134\n",
            "Epoch 27, Loss: 0.37420644696553546\n",
            "Epoch 28, Loss: 0.36934018894036613\n",
            "Epoch 29, Loss: 0.3674074698289235\n",
            "Epoch 30, Loss: 0.36516347984472913\n",
            "Epoch 31, Loss: 0.3612555159330368\n",
            "Epoch 32, Loss: 0.36025221927960716\n",
            "Epoch 33, Loss: 0.3554836405913035\n",
            "Epoch 34, Loss: 0.3520700528224309\n",
            "Epoch 35, Loss: 0.35373833338419597\n",
            "Epoch 36, Loss: 0.34759589258829754\n",
            "Epoch 37, Loss: 0.34694695794582364\n",
            "Epoch 38, Loss: 0.3422765394846598\n",
            "Epoch 39, Loss: 0.34088720635573067\n",
            "Epoch 40, Loss: 0.33793013588587445\n",
            "Epoch 41, Loss: 0.33213620515664416\n",
            "Epoch 42, Loss: 0.33494427474339805\n",
            "Epoch 43, Loss: 0.33124396856625876\n",
            "Epoch 44, Loss: 0.331528023203214\n",
            "Epoch 45, Loss: 0.3308104863166809\n",
            "Epoch 46, Loss: 0.32386110329627993\n",
            "Epoch 47, Loss: 0.3242498954137166\n",
            "Epoch 48, Loss: 0.32325705587863923\n",
            "Epoch 49, Loss: 0.32077271401882174\n",
            "Epoch 50, Loss: 0.31831560397148134\n",
            "Epoch 51, Loss: 0.31611799440781274\n",
            "Epoch 52, Loss: 0.32223307160536446\n",
            "Epoch 53, Loss: 0.3150702492396037\n",
            "Epoch 54, Loss: 0.3143892817894618\n",
            "Epoch 55, Loss: 0.31307802780469257\n",
            "Epoch 56, Loss: 0.3079551203250885\n",
            "Epoch 57, Loss: 0.306187153895696\n",
            "Epoch 58, Loss: 0.3087947394053141\n",
            "Epoch 59, Loss: 0.3042871916294098\n",
            "Epoch 60, Loss: 0.3036407228708267\n",
            "Epoch 61, Loss: 0.3016423333088557\n",
            "Epoch 62, Loss: 0.29958205338319144\n",
            "Epoch 63, Loss: 0.3004108722607295\n",
            "Epoch 64, Loss: 0.29436279634634654\n",
            "Epoch 65, Loss: 0.2948510996500651\n",
            "Epoch 66, Loss: 0.29210958524545033\n",
            "Epoch 67, Loss: 0.29442482566833494\n",
            "Epoch 68, Loss: 0.28953873364130656\n",
            "Epoch 69, Loss: 0.2912276033560435\n",
            "Epoch 70, Loss: 0.2881013695398966\n",
            "Epoch 71, Loss: 0.2858364002307256\n",
            "Epoch 72, Loss: 0.2851531850496928\n",
            "Epoch 73, Loss: 0.28622881722450255\n",
            "Epoch 74, Loss: 0.28185399305820463\n",
            "Epoch 75, Loss: 0.27887020401159923\n",
            "Epoch 76, Loss: 0.27961390823125837\n",
            "Epoch 77, Loss: 0.2860883968671163\n",
            "Epoch 78, Loss: 0.2804118113120397\n",
            "Epoch 79, Loss: 0.278662998020649\n",
            "Epoch 80, Loss: 0.27511444421609244\n",
            "Epoch 81, Loss: 0.2746851230462392\n",
            "Epoch 82, Loss: 0.27585531014204023\n",
            "Epoch 83, Loss: 0.2753730039993922\n",
            "Epoch 84, Loss: 0.2734937932093938\n",
            "Epoch 85, Loss: 0.2692369828224182\n",
            "Epoch 86, Loss: 0.2704122080405553\n",
            "Epoch 87, Loss: 0.26802227964003883\n",
            "Epoch 88, Loss: 0.2653955484628677\n",
            "Epoch 89, Loss: 0.2699374142885208\n",
            "Epoch 90, Loss: 0.26801692390441895\n",
            "Epoch 91, Loss: 0.26557838813463847\n",
            "Epoch 92, Loss: 0.26534450745582583\n",
            "Epoch 93, Loss: 0.26261688657601673\n",
            "Epoch 94, Loss: 0.26239798571666084\n",
            "Epoch 95, Loss: 0.26045756149291993\n",
            "Epoch 96, Loss: 0.25677912000815073\n",
            "Epoch 97, Loss: 0.2598503915866216\n",
            "Epoch 98, Loss: 0.2585292003949483\n",
            "Epoch 99, Loss: 0.25780211756626764\n"
          ]
        },
        {
          "metadata": {
            "tags": null
          },
          "name": "stderr",
          "output_type": "stream",
          "text": [
            "[I 2025-07-15 17:35:58,750] Trial 1 finished with value: 88.80833333333334 and parameters: {'num_hidden_layers': 4, 'neurons_per_layer': 72, 'epochs': 100, 'learning_rate': 5.817284058149812e-05, 'dropout_rate': 0.2, 'batch_size': 128, 'optimizer': 'Adam', 'weight_decay': 3.794627897715172e-05}. Best is trial 1 with value: 88.80833333333334.\n"
          ]
        },
        {
          "output_type": "stream",
          "name": "stdout",
          "text": [
            "Epoch 100, Loss: 0.255396359761556\n",
            "Epoch 1, Loss: 2.4136629158655802\n",
            "Epoch 2, Loss: 2.366573638598124\n",
            "Epoch 3, Loss: 2.3332200090090436\n",
            "Epoch 4, Loss: 2.30971692721049\n",
            "Epoch 5, Loss: 2.2818051891326903\n",
            "Epoch 6, Loss: 2.260985142787298\n",
            "Epoch 7, Loss: 2.237679481903712\n",
            "Epoch 8, Loss: 2.215232809861501\n",
            "Epoch 9, Loss: 2.1962071481545764\n",
            "Epoch 10, Loss: 2.172971254825592\n",
            "Epoch 11, Loss: 2.1526389748255412\n",
            "Epoch 12, Loss: 2.13418150806427\n",
            "Epoch 13, Loss: 2.1133041189511617\n",
            "Epoch 14, Loss: 2.0908022828102113\n",
            "Epoch 15, Loss: 2.074731256246567\n",
            "Epoch 16, Loss: 2.0577516024112703\n",
            "Epoch 17, Loss: 2.039635686079661\n",
            "Epoch 18, Loss: 2.023580117146174\n",
            "Epoch 19, Loss: 2.002714350382487\n",
            "Epoch 20, Loss: 1.9882828198273976\n",
            "Epoch 21, Loss: 1.9741148099899293\n",
            "Epoch 22, Loss: 1.9572885111172993\n",
            "Epoch 23, Loss: 1.941612559636434\n",
            "Epoch 24, Loss: 1.931213763554891\n",
            "Epoch 25, Loss: 1.91318346007665\n",
            "Epoch 26, Loss: 1.8995763202508291\n",
            "Epoch 27, Loss: 1.8831851626237233\n",
            "Epoch 28, Loss: 1.8693916906515757\n",
            "Epoch 29, Loss: 1.859006135861079\n",
            "Epoch 30, Loss: 1.843607172727585\n",
            "Epoch 31, Loss: 1.8352126173178356\n",
            "Epoch 32, Loss: 1.8191371581554412\n",
            "Epoch 33, Loss: 1.813045936425527\n",
            "Epoch 34, Loss: 1.8034488998254141\n",
            "Epoch 35, Loss: 1.7929294262727102\n",
            "Epoch 36, Loss: 1.78227543314298\n",
            "Epoch 37, Loss: 1.772243244489034\n",
            "Epoch 38, Loss: 1.758614423116048\n",
            "Epoch 39, Loss: 1.7511843570073446\n",
            "Epoch 40, Loss: 1.7418930269082387\n",
            "Epoch 41, Loss: 1.734869925737381\n",
            "Epoch 42, Loss: 1.7288845029671986\n",
            "Epoch 43, Loss: 1.7169520611763\n",
            "Epoch 44, Loss: 1.7108103968302408\n",
            "Epoch 45, Loss: 1.7013573151429495\n",
            "Epoch 46, Loss: 1.6927985691229501\n",
            "Epoch 47, Loss: 1.6876997186342875\n",
            "Epoch 48, Loss: 1.683197944800059\n",
            "Epoch 49, Loss: 1.676492725133896\n",
            "Epoch 50, Loss: 1.6681714820067088\n",
            "Epoch 51, Loss: 1.6601321201324464\n",
            "Epoch 52, Loss: 1.6546988881429037\n",
            "Epoch 53, Loss: 1.6509750400384267\n",
            "Epoch 54, Loss: 1.6411813782850901\n",
            "Epoch 55, Loss: 1.6311517647107443\n",
            "Epoch 56, Loss: 1.6305429777304332\n",
            "Epoch 57, Loss: 1.6254113593101502\n",
            "Epoch 58, Loss: 1.6241800000667572\n",
            "Epoch 59, Loss: 1.6112145838737488\n",
            "Epoch 60, Loss: 1.6093223311106364\n"
          ]
        },
        {
          "output_type": "stream",
          "name": "stderr",
          "text": [
            "[I 2025-07-15 17:40:56,939] Trial 2 finished with value: 48.125 and parameters: {'num_hidden_layers': 5, 'neurons_per_layer': 56, 'epochs': 60, 'learning_rate': 0.0001371131333415193, 'dropout_rate': 0.5, 'batch_size': 32, 'optimizer': 'SGD', 'weight_decay': 5.8628045467451346e-05}. Best is trial 1 with value: 88.80833333333334.\n"
          ]
        },
        {
          "output_type": "stream",
          "name": "stdout",
          "text": [
            "Epoch 1, Loss: 2.1402696471214293\n",
            "Epoch 2, Loss: 1.7433594827651977\n",
            "Epoch 3, Loss: 1.549862916469574\n",
            "Epoch 4, Loss: 1.429688747326533\n",
            "Epoch 5, Loss: 1.3440118475755056\n",
            "Epoch 6, Loss: 1.2731859405040742\n",
            "Epoch 7, Loss: 1.2241672022342682\n",
            "Epoch 8, Loss: 1.1760893087387085\n",
            "Epoch 9, Loss: 1.1350024768511455\n",
            "Epoch 10, Loss: 1.1020866539080938\n",
            "Epoch 11, Loss: 1.0740418504476548\n",
            "Epoch 12, Loss: 1.0486737167040507\n",
            "Epoch 13, Loss: 1.0238330425024034\n",
            "Epoch 14, Loss: 1.0033181219100953\n",
            "Epoch 15, Loss: 0.9833211713631947\n",
            "Epoch 16, Loss: 0.9654710116386414\n",
            "Epoch 17, Loss: 0.946650700767835\n",
            "Epoch 18, Loss: 0.9321301391124726\n",
            "Epoch 19, Loss: 0.9166532247463862\n",
            "Epoch 20, Loss: 0.9057310500542323\n",
            "Epoch 21, Loss: 0.8939989454348882\n",
            "Epoch 22, Loss: 0.882178773621718\n",
            "Epoch 23, Loss: 0.8706949204007784\n",
            "Epoch 24, Loss: 0.8584521907567978\n",
            "Epoch 25, Loss: 0.8510625962018966\n",
            "Epoch 26, Loss: 0.8414546262423197\n",
            "Epoch 27, Loss: 0.83161649086078\n",
            "Epoch 28, Loss: 0.8242592129508655\n",
            "Epoch 29, Loss: 0.817155737777551\n",
            "Epoch 30, Loss: 0.8075070157845815\n"
          ]
        },
        {
          "output_type": "stream",
          "name": "stderr",
          "text": [
            "[I 2025-07-15 17:42:12,906] Trial 3 finished with value: 78.66666666666667 and parameters: {'num_hidden_layers': 1, 'neurons_per_layer': 128, 'epochs': 30, 'learning_rate': 5.083940707389007e-05, 'dropout_rate': 0.5, 'batch_size': 32, 'optimizer': 'SGD', 'weight_decay': 2.5365674345343446e-05}. Best is trial 1 with value: 88.80833333333334.\n"
          ]
        },
        {
          "output_type": "stream",
          "name": "stdout",
          "text": [
            "Epoch 1, Loss: 0.8999913387298584\n",
            "Epoch 2, Loss: 0.6098714534044266\n",
            "Epoch 3, Loss: 0.5558935481707256\n",
            "Epoch 4, Loss: 0.5317393318414688\n",
            "Epoch 5, Loss: 0.5076516150037448\n",
            "Epoch 6, Loss: 0.49750906850894294\n",
            "Epoch 7, Loss: 0.48352980315685273\n",
            "Epoch 8, Loss: 0.47510433769226074\n",
            "Epoch 9, Loss: 0.46786819249391554\n",
            "Epoch 10, Loss: 0.4648853273789088\n",
            "Epoch 11, Loss: 0.45619684445858\n",
            "Epoch 12, Loss: 0.4488088257908821\n",
            "Epoch 13, Loss: 0.4508116141756376\n",
            "Epoch 14, Loss: 0.44266316546996437\n",
            "Epoch 15, Loss: 0.43821798849105836\n",
            "Epoch 16, Loss: 0.4336351941227913\n",
            "Epoch 17, Loss: 0.4350296621521314\n",
            "Epoch 18, Loss: 0.42979834268490474\n",
            "Epoch 19, Loss: 0.4254180289109548\n",
            "Epoch 20, Loss: 0.4222724462548892\n",
            "Epoch 21, Loss: 0.4220566095113754\n",
            "Epoch 22, Loss: 0.4213402707775434\n",
            "Epoch 23, Loss: 0.41701694564024605\n",
            "Epoch 24, Loss: 0.41861018085479734\n",
            "Epoch 25, Loss: 0.4098053230047226\n",
            "Epoch 26, Loss: 0.4091256971557935\n",
            "Epoch 27, Loss: 0.41118740713596347\n",
            "Epoch 28, Loss: 0.4048536069194476\n",
            "Epoch 29, Loss: 0.40346251340707145\n",
            "Epoch 30, Loss: 0.4061780154109001\n",
            "Epoch 31, Loss: 0.40112658981482185\n",
            "Epoch 32, Loss: 0.40259778585036593\n",
            "Epoch 33, Loss: 0.39887059621016185\n",
            "Epoch 34, Loss: 0.3976601087252299\n",
            "Epoch 35, Loss: 0.39835925871133804\n",
            "Epoch 36, Loss: 0.3945619637568792\n",
            "Epoch 37, Loss: 0.3906703520019849\n",
            "Epoch 38, Loss: 0.39055569178859395\n",
            "Epoch 39, Loss: 0.3892857607404391\n",
            "Epoch 40, Loss: 0.3902591444452604\n",
            "Epoch 41, Loss: 0.38589899269739786\n",
            "Epoch 42, Loss: 0.3852339441180229\n",
            "Epoch 43, Loss: 0.38420588743686673\n",
            "Epoch 44, Loss: 0.38299662274122237\n",
            "Epoch 45, Loss: 0.3841651391585668\n",
            "Epoch 46, Loss: 0.3832162775794665\n",
            "Epoch 47, Loss: 0.37998336599270505\n",
            "Epoch 48, Loss: 0.3829893127083778\n",
            "Epoch 49, Loss: 0.3799975890914599\n",
            "Epoch 50, Loss: 0.37755840555826825\n",
            "Epoch 51, Loss: 0.3804390860795975\n",
            "Epoch 52, Loss: 0.37754562187194823\n",
            "Epoch 53, Loss: 0.37373130176464714\n",
            "Epoch 54, Loss: 0.37632199492057167\n",
            "Epoch 55, Loss: 0.3746062918504079\n",
            "Epoch 56, Loss: 0.3714769647916158\n",
            "Epoch 57, Loss: 0.3692604027787844\n",
            "Epoch 58, Loss: 0.3725845114588737\n",
            "Epoch 59, Loss: 0.37044909518957136\n",
            "Epoch 60, Loss: 0.36882575913270316\n",
            "Epoch 61, Loss: 0.37278742482264837\n",
            "Epoch 62, Loss: 0.3698550126949946\n",
            "Epoch 63, Loss: 0.3664760587414106\n",
            "Epoch 64, Loss: 0.3670299989978472\n",
            "Epoch 65, Loss: 0.36795678474505744\n",
            "Epoch 66, Loss: 0.3650080208778381\n",
            "Epoch 67, Loss: 0.36896168506145477\n",
            "Epoch 68, Loss: 0.36557290877898535\n",
            "Epoch 69, Loss: 0.3638779154419899\n",
            "Epoch 70, Loss: 0.3608028842409452\n",
            "Epoch 71, Loss: 0.3629863797823588\n",
            "Epoch 72, Loss: 0.36031508892774583\n",
            "Epoch 73, Loss: 0.36097100769480067\n",
            "Epoch 74, Loss: 0.3578538850148519\n",
            "Epoch 75, Loss: 0.3600961033900579\n",
            "Epoch 76, Loss: 0.3551965014735858\n",
            "Epoch 77, Loss: 0.354548617819945\n",
            "Epoch 78, Loss: 0.35868338015675544\n",
            "Epoch 79, Loss: 0.35311492772897085\n",
            "Epoch 80, Loss: 0.35836008248726525\n",
            "Epoch 81, Loss: 0.354680953592062\n",
            "Epoch 82, Loss: 0.352245692829291\n",
            "Epoch 83, Loss: 0.35486750626564023\n",
            "Epoch 84, Loss: 0.35658315430084864\n",
            "Epoch 85, Loss: 0.3570641188422839\n",
            "Epoch 86, Loss: 0.35297357922792433\n",
            "Epoch 87, Loss: 0.35387180849909783\n",
            "Epoch 88, Loss: 0.3512622203230858\n",
            "Epoch 89, Loss: 0.3490572338898977\n",
            "Epoch 90, Loss: 0.3524617835978667\n",
            "Epoch 91, Loss: 0.35094312645991643\n",
            "Epoch 92, Loss: 0.3471010603109996\n",
            "Epoch 93, Loss: 0.34737804663181304\n",
            "Epoch 94, Loss: 0.3513925379316012\n",
            "Epoch 95, Loss: 0.3472808914979299\n",
            "Epoch 96, Loss: 0.34604141928752263\n",
            "Epoch 97, Loss: 0.34841953102747597\n",
            "Epoch 98, Loss: 0.3460991648832957\n",
            "Epoch 99, Loss: 0.34752611444393794\n",
            "Epoch 100, Loss: 0.34555316559473676\n"
          ]
        },
        {
          "output_type": "stream",
          "name": "stderr",
          "text": [
            "[I 2025-07-15 17:44:35,991] Trial 4 finished with value: 86.73333333333333 and parameters: {'num_hidden_layers': 1, 'neurons_per_layer': 32, 'epochs': 100, 'learning_rate': 0.01621685816067072, 'dropout_rate': 0.30000000000000004, 'batch_size': 64, 'optimizer': 'SGD', 'weight_decay': 0.00032157629766401574}. Best is trial 1 with value: 88.80833333333334.\n"
          ]
        },
        {
          "output_type": "stream",
          "name": "stdout",
          "text": [
            "Epoch 1, Loss: 0.8915095737377803\n",
            "Epoch 2, Loss: 0.6288092111249765\n",
            "Epoch 3, Loss: 0.5849453803201516\n",
            "Epoch 4, Loss: 0.5604249959588051\n",
            "Epoch 5, Loss: 0.5421941731174786\n",
            "Epoch 6, Loss: 0.5245662169158458\n",
            "Epoch 7, Loss: 0.5165016142725944\n",
            "Epoch 8, Loss: 0.5095216555595398\n",
            "Epoch 9, Loss: 0.504663629492124\n",
            "Epoch 10, Loss: 0.4884319495558739\n",
            "Epoch 11, Loss: 0.49185765970746675\n",
            "Epoch 12, Loss: 0.48190040797988576\n",
            "Epoch 13, Loss: 0.48181168217460313\n",
            "Epoch 14, Loss: 0.47501459665596485\n",
            "Epoch 15, Loss: 0.47181904727220536\n",
            "Epoch 16, Loss: 0.4675127329727014\n",
            "Epoch 17, Loss: 0.4668754889965057\n",
            "Epoch 18, Loss: 0.46596985443433125\n",
            "Epoch 19, Loss: 0.4602501332362493\n",
            "Epoch 20, Loss: 0.45425656329095365\n",
            "Epoch 21, Loss: 0.4562406214972337\n",
            "Epoch 22, Loss: 0.4524307096699874\n",
            "Epoch 23, Loss: 0.45336666694283484\n",
            "Epoch 24, Loss: 0.4514449192037185\n",
            "Epoch 25, Loss: 0.4460394856631756\n",
            "Epoch 26, Loss: 0.4485663784344991\n",
            "Epoch 27, Loss: 0.4457905806154013\n",
            "Epoch 28, Loss: 0.44647400175035\n",
            "Epoch 29, Loss: 0.44258733809987705\n",
            "Epoch 30, Loss: 0.4460864820331335\n",
            "Epoch 31, Loss: 0.4405940536608299\n",
            "Epoch 32, Loss: 0.44291292935609816\n",
            "Epoch 33, Loss: 0.43997301885982354\n",
            "Epoch 34, Loss: 0.44270770795643327\n",
            "Epoch 35, Loss: 0.43825259976585706\n",
            "Epoch 36, Loss: 0.43734355934957664\n",
            "Epoch 37, Loss: 0.4377811154375474\n",
            "Epoch 38, Loss: 0.44079096941153206\n",
            "Epoch 39, Loss: 0.436783728475372\n",
            "Epoch 40, Loss: 0.4356726313382387\n",
            "Epoch 41, Loss: 0.4320613418122133\n",
            "Epoch 42, Loss: 0.4341970441490412\n",
            "Epoch 43, Loss: 0.43435600376625855\n",
            "Epoch 44, Loss: 0.43255609664320943\n",
            "Epoch 45, Loss: 0.4311423932959636\n",
            "Epoch 46, Loss: 0.4298862732301156\n",
            "Epoch 47, Loss: 0.4327198599129915\n",
            "Epoch 48, Loss: 0.43103735269606114\n",
            "Epoch 49, Loss: 0.428732622757554\n",
            "Epoch 50, Loss: 0.4291511139174302\n",
            "Epoch 51, Loss: 0.42578097302218276\n",
            "Epoch 52, Loss: 0.4264545340935389\n",
            "Epoch 53, Loss: 0.4251627986629804\n",
            "Epoch 54, Loss: 0.4249816794643799\n",
            "Epoch 55, Loss: 0.4249692482203245\n",
            "Epoch 56, Loss: 0.4245786108573278\n",
            "Epoch 57, Loss: 0.4244657059858243\n",
            "Epoch 58, Loss: 0.4263955336858829\n",
            "Epoch 59, Loss: 0.42365829934676486\n",
            "Epoch 60, Loss: 0.42360195542375245\n",
            "Epoch 61, Loss: 0.42202088264624277\n",
            "Epoch 62, Loss: 0.42602491074303783\n",
            "Epoch 63, Loss: 0.4256459281891584\n",
            "Epoch 64, Loss: 0.41982741327087086\n",
            "Epoch 65, Loss: 0.4241562421371539\n",
            "Epoch 66, Loss: 0.42317468308409056\n",
            "Epoch 67, Loss: 0.4194456323881944\n",
            "Epoch 68, Loss: 0.41808487256368\n",
            "Epoch 69, Loss: 0.4214429961591959\n",
            "Epoch 70, Loss: 0.41927386563519636\n",
            "Epoch 71, Loss: 0.4196038081695636\n",
            "Epoch 72, Loss: 0.41663477310538294\n",
            "Epoch 73, Loss: 0.41955830046037834\n",
            "Epoch 74, Loss: 0.4182260400603215\n",
            "Epoch 75, Loss: 0.41667433378100394\n",
            "Epoch 76, Loss: 0.4185774420897166\n",
            "Epoch 77, Loss: 0.4169978157629569\n",
            "Epoch 78, Loss: 0.41656200208266575\n",
            "Epoch 79, Loss: 0.41690415173768997\n",
            "Epoch 80, Loss: 0.4171738218218088\n",
            "Epoch 81, Loss: 0.4169012189855178\n",
            "Epoch 82, Loss: 0.41544611382484437\n",
            "Epoch 83, Loss: 0.41343492472171783\n",
            "Epoch 84, Loss: 0.4191371760716041\n",
            "Epoch 85, Loss: 0.4110761260588964\n",
            "Epoch 86, Loss: 0.4154970819503069\n",
            "Epoch 87, Loss: 0.4110788279821475\n",
            "Epoch 88, Loss: 0.4204269968072573\n",
            "Epoch 89, Loss: 0.41426808207233745\n",
            "Epoch 90, Loss: 0.41617226838568844\n"
          ]
        },
        {
          "output_type": "stream",
          "name": "stderr",
          "text": [
            "[I 2025-07-15 17:50:50,943] Trial 5 finished with value: 87.81666666666666 and parameters: {'num_hidden_layers': 3, 'neurons_per_layer': 48, 'epochs': 90, 'learning_rate': 0.0006938451508248465, 'dropout_rate': 0.30000000000000004, 'batch_size': 32, 'optimizer': 'Adam', 'weight_decay': 4.1513255582650815e-05}. Best is trial 1 with value: 88.80833333333334.\n"
          ]
        },
        {
          "output_type": "stream",
          "name": "stdout",
          "text": [
            "Epoch 1, Loss: 1.7704097566604615\n",
            "Epoch 2, Loss: 1.5208694764773052\n",
            "Epoch 3, Loss: 1.4778862462838491\n",
            "Epoch 4, Loss: 1.4569678584734598\n",
            "Epoch 5, Loss: 1.4176298650105794\n",
            "Epoch 6, Loss: 1.4151618213653565\n",
            "Epoch 7, Loss: 1.406294753630956\n",
            "Epoch 8, Loss: 1.4186855211257934\n",
            "Epoch 9, Loss: 1.39974138434728\n",
            "Epoch 10, Loss: 1.4087440139452616\n",
            "Epoch 11, Loss: 1.4186006995836893\n",
            "Epoch 12, Loss: 1.4133282214800518\n",
            "Epoch 13, Loss: 1.4392187019983926\n",
            "Epoch 14, Loss: 1.4272698621749877\n",
            "Epoch 15, Loss: 1.4188706115086873\n",
            "Epoch 16, Loss: 1.4055766917069754\n",
            "Epoch 17, Loss: 1.4011516040166219\n",
            "Epoch 18, Loss: 1.403233081181844\n",
            "Epoch 19, Loss: 1.4175549171765645\n",
            "Epoch 20, Loss: 1.4074244662920634\n",
            "Epoch 21, Loss: 1.4028165767987568\n",
            "Epoch 22, Loss: 1.4126538048585255\n",
            "Epoch 23, Loss: 1.4178093260129292\n",
            "Epoch 24, Loss: 1.4045551280975341\n",
            "Epoch 25, Loss: 1.4140630427201588\n",
            "Epoch 26, Loss: 1.4087290824254355\n",
            "Epoch 27, Loss: 1.4142375276883443\n",
            "Epoch 28, Loss: 1.4246920496622721\n",
            "Epoch 29, Loss: 1.4092320014635722\n",
            "Epoch 30, Loss: 1.4196269256273906\n",
            "Epoch 31, Loss: 1.4281971122423809\n",
            "Epoch 32, Loss: 1.430441903114319\n",
            "Epoch 33, Loss: 1.422774378299713\n",
            "Epoch 34, Loss: 1.417949909210205\n",
            "Epoch 35, Loss: 1.4196033066908518\n",
            "Epoch 36, Loss: 1.4315312940279643\n",
            "Epoch 37, Loss: 1.433466645558675\n",
            "Epoch 38, Loss: 1.4303548227945964\n",
            "Epoch 39, Loss: 1.4335500866572062\n",
            "Epoch 40, Loss: 1.4348109707832337\n",
            "Epoch 41, Loss: 1.4312764123280843\n",
            "Epoch 42, Loss: 1.4376310998598734\n",
            "Epoch 43, Loss: 1.4290792892773947\n",
            "Epoch 44, Loss: 1.4308819292386372\n",
            "Epoch 45, Loss: 1.4285952135721842\n",
            "Epoch 46, Loss: 1.4411194307009378\n",
            "Epoch 47, Loss: 1.4523977204958598\n",
            "Epoch 48, Loss: 1.4452546071211496\n",
            "Epoch 49, Loss: 1.4405745615959167\n",
            "Epoch 50, Loss: 1.450383351167043\n",
            "Epoch 51, Loss: 1.4659201380411784\n",
            "Epoch 52, Loss: 1.4549100410143534\n",
            "Epoch 53, Loss: 1.4640149224599202\n",
            "Epoch 54, Loss: 1.4602776821454366\n",
            "Epoch 55, Loss: 1.4718194740613302\n",
            "Epoch 56, Loss: 1.4610941441853842\n",
            "Epoch 57, Loss: 1.4636453043619793\n",
            "Epoch 58, Loss: 1.4467283789316814\n",
            "Epoch 59, Loss: 1.4662035239537556\n",
            "Epoch 60, Loss: 1.4633942761421204\n",
            "Epoch 61, Loss: 1.461764983812968\n",
            "Epoch 62, Loss: 1.4671438706715902\n",
            "Epoch 63, Loss: 1.4551802905400595\n",
            "Epoch 64, Loss: 1.4554895825386047\n",
            "Epoch 65, Loss: 1.4578174654642742\n",
            "Epoch 66, Loss: 1.4629047220547995\n",
            "Epoch 67, Loss: 1.4605150904655457\n",
            "Epoch 68, Loss: 1.4669154376983642\n",
            "Epoch 69, Loss: 1.4566818469365437\n",
            "Epoch 70, Loss: 1.4683906262715658\n"
          ]
        },
        {
          "output_type": "stream",
          "name": "stderr",
          "text": [
            "[I 2025-07-15 17:54:08,575] Trial 6 finished with value: 54.65 and parameters: {'num_hidden_layers': 5, 'neurons_per_layer': 96, 'epochs': 70, 'learning_rate': 0.0565050609280268, 'dropout_rate': 0.5, 'batch_size': 64, 'optimizer': 'RMSprop', 'weight_decay': 9.574671933622558e-05}. Best is trial 1 with value: 88.80833333333334.\n"
          ]
        },
        {
          "output_type": "stream",
          "name": "stdout",
          "text": [
            "Epoch 1, Loss: 0.9627239445050557\n",
            "Epoch 2, Loss: 0.7522825832366944\n",
            "Epoch 3, Loss: 0.728454260190328\n",
            "Epoch 4, Loss: 0.7109876887003581\n",
            "Epoch 5, Loss: 0.7028116117318471\n",
            "Epoch 6, Loss: 0.6927333190441132\n",
            "Epoch 7, Loss: 0.6898318702379862\n",
            "Epoch 8, Loss: 0.6881693137486776\n",
            "Epoch 9, Loss: 0.6836293772856394\n"
          ]
        },
        {
          "output_type": "stream",
          "name": "stderr",
          "text": [
            "[I 2025-07-15 17:54:22,777] Trial 7 finished with value: 82.36666666666666 and parameters: {'num_hidden_layers': 4, 'neurons_per_layer': 80, 'epochs': 10, 'learning_rate': 0.009746061997760468, 'dropout_rate': 0.5, 'batch_size': 128, 'optimizer': 'RMSprop', 'weight_decay': 4.5506047118325213e-05}. Best is trial 1 with value: 88.80833333333334.\n"
          ]
        },
        {
          "output_type": "stream",
          "name": "stdout",
          "text": [
            "Epoch 10, Loss: 0.6778009703159332\n",
            "Epoch 1, Loss: 2.2575606956481935\n",
            "Epoch 2, Loss: 2.1386311683654786\n",
            "Epoch 3, Loss: 2.059745486895243\n",
            "Epoch 4, Loss: 1.9988887519836427\n",
            "Epoch 5, Loss: 1.9534305159250895\n",
            "Epoch 6, Loss: 1.9140985940297444\n",
            "Epoch 7, Loss: 1.8854332898457844\n",
            "Epoch 8, Loss: 1.8560812877019246\n",
            "Epoch 9, Loss: 1.8319835920333862\n",
            "Epoch 10, Loss: 1.8055233373641968\n",
            "Epoch 11, Loss: 1.78498104763031\n",
            "Epoch 12, Loss: 1.7631713717778523\n",
            "Epoch 13, Loss: 1.7440631062189738\n",
            "Epoch 14, Loss: 1.7246189279556274\n",
            "Epoch 15, Loss: 1.7066784524917602\n",
            "Epoch 16, Loss: 1.68837260278066\n",
            "Epoch 17, Loss: 1.67284393119812\n",
            "Epoch 18, Loss: 1.6538245843251547\n",
            "Epoch 19, Loss: 1.6383330039978028\n",
            "Epoch 20, Loss: 1.6253142601648967\n",
            "Epoch 21, Loss: 1.60596799437205\n",
            "Epoch 22, Loss: 1.5912307856877645\n",
            "Epoch 23, Loss: 1.5766896006266276\n",
            "Epoch 24, Loss: 1.5621441532770792\n",
            "Epoch 25, Loss: 1.548713591893514\n",
            "Epoch 26, Loss: 1.5379614505767822\n",
            "Epoch 27, Loss: 1.5235387630462647\n",
            "Epoch 28, Loss: 1.5107482233047484\n",
            "Epoch 29, Loss: 1.4972288204828899\n"
          ]
        },
        {
          "output_type": "stream",
          "name": "stderr",
          "text": [
            "[I 2025-07-15 17:54:54,784] Trial 8 finished with value: 69.49166666666666 and parameters: {'num_hidden_layers': 2, 'neurons_per_layer': 40, 'epochs': 30, 'learning_rate': 8.035186090204443e-05, 'dropout_rate': 0.2, 'batch_size': 128, 'optimizer': 'SGD', 'weight_decay': 3.1010295455822646e-05}. Best is trial 1 with value: 88.80833333333334.\n"
          ]
        },
        {
          "output_type": "stream",
          "name": "stdout",
          "text": [
            "Epoch 30, Loss: 1.4863474537531536\n",
            "Epoch 1, Loss: 0.9810717425942421\n",
            "Epoch 2, Loss: 0.725169744938612\n",
            "Epoch 3, Loss: 0.6590540001938741\n",
            "Epoch 4, Loss: 0.6219125208432476\n",
            "Epoch 5, Loss: 0.5897999877432982\n",
            "Epoch 6, Loss: 0.5795014652659496\n",
            "Epoch 7, Loss: 0.5679007366498311\n",
            "Epoch 8, Loss: 0.5498361547514796\n",
            "Epoch 9, Loss: 0.5403701269105077\n",
            "Epoch 10, Loss: 0.5249688339109222\n"
          ]
        },
        {
          "output_type": "stream",
          "name": "stderr",
          "text": [
            "[I 2025-07-15 17:56:18,153] Trial 9 finished with value: 86.84166666666667 and parameters: {'num_hidden_layers': 4, 'neurons_per_layer': 128, 'epochs': 10, 'learning_rate': 0.014432972238741631, 'dropout_rate': 0.4, 'batch_size': 16, 'optimizer': 'SGD', 'weight_decay': 1.5424994640731916e-05}. Best is trial 1 with value: 88.80833333333334.\n"
          ]
        },
        {
          "output_type": "stream",
          "name": "stdout",
          "text": [
            "Epoch 1, Loss: 2.286612787246704\n",
            "Epoch 2, Loss: 2.2009249267578124\n",
            "Epoch 3, Loss: 2.151641866048177\n",
            "Epoch 4, Loss: 2.107329005877177\n",
            "Epoch 5, Loss: 2.065323424975077\n",
            "Epoch 6, Loss: 2.0278420095443725\n"
          ]
        },
        {
          "output_type": "stream",
          "name": "stderr",
          "text": [
            "[W 2025-07-15 17:56:28,501] Trial 10 failed with parameters: {'num_hidden_layers': 4, 'neurons_per_layer': 16, 'epochs': 90, 'learning_rate': 1.3378360208554625e-05, 'dropout_rate': 0.2, 'batch_size': 128, 'optimizer': 'Adam', 'weight_decay': 0.0003000014016951423} because of the following error: KeyboardInterrupt().\n",
            "Traceback (most recent call last):\n",
            "  File \"/usr/local/lib/python3.11/dist-packages/optuna/study/_optimize.py\", line 201, in _run_trial\n",
            "    value_or_values = func(trial)\n",
            "                      ^^^^^^^^^^^\n",
            "  File \"/tmp/ipython-input-20-1962216220.py\", line 38, in objective\n",
            "    for batch_features, batch_labels in train_loader:\n",
            "  File \"/usr/local/lib/python3.11/dist-packages/torch/utils/data/dataloader.py\", line 704, in __next__\n",
            "    with torch.autograd.profiler.record_function(self._profile_name):\n",
            "  File \"/usr/local/lib/python3.11/dist-packages/torch/autograd/profiler.py\", line 769, in __exit__\n",
            "    torch.ops.profiler._record_function_exit._RecordFunction(record)\n",
            "  File \"/usr/local/lib/python3.11/dist-packages/torch/_ops.py\", line 947, in __call__\n",
            "    if _must_dispatch_in_python(args, kwargs):\n",
            "       ^^^^^^^^^^^^^^^^^^^^^^^^^^^^^^^^^^^^^^\n",
            "  File \"/usr/local/lib/python3.11/dist-packages/torch/_ops.py\", line 1001, in _must_dispatch_in_python\n",
            "    return pytree.tree_any(\n",
            "           ^^^^^^^^^^^^^^^^\n",
            "  File \"/usr/local/lib/python3.11/dist-packages/torch/utils/_pytree.py\", line 1230, in tree_any\n",
            "    return any(map(pred, flat_args))\n",
            "           ^^^^^^^^^^^^^^^^^^^^^^^^^\n",
            "  File \"/usr/local/lib/python3.11/dist-packages/torch/utils/_pytree.py\", line 931, in tree_iter\n",
            "    yield from tree_iter(child, is_leaf=is_leaf)\n",
            "  File \"/usr/local/lib/python3.11/dist-packages/torch/utils/_pytree.py\", line 927, in tree_iter\n",
            "    child_pytrees, _ = flatten_fn(tree)\n",
            "                       ^^^^^^^^^^^^^^^^\n",
            "  File \"/usr/local/lib/python3.11/dist-packages/torch/utils/_pytree.py\", line 467, in _dict_flatten\n",
            "    return list(d.values()), list(d.keys())\n",
            "                             ^^^^^^^^^^^^^^\n",
            "KeyboardInterrupt\n",
            "[W 2025-07-15 17:56:28,508] Trial 10 failed with value None.\n"
          ]
        },
        {
          "output_type": "stream",
          "name": "stdout",
          "text": [
            "Epoch 7, Loss: 1.9926121775309245\n"
          ]
        },
        {
          "output_type": "error",
          "ename": "KeyboardInterrupt",
          "evalue": "",
          "traceback": [
            "\u001b[0;31m---------------------------------------------------------------------------\u001b[0m",
            "\u001b[0;31mKeyboardInterrupt\u001b[0m                         Traceback (most recent call last)",
            "\u001b[0;32m/tmp/ipython-input-22-1374290660.py\u001b[0m in \u001b[0;36m<cell line: 0>\u001b[0;34m()\u001b[0m\n\u001b[0;32m----> 1\u001b[0;31m \u001b[0mstudy\u001b[0m\u001b[0;34m.\u001b[0m\u001b[0moptimize\u001b[0m\u001b[0;34m(\u001b[0m\u001b[0mobjective\u001b[0m\u001b[0;34m,\u001b[0m \u001b[0mn_trials\u001b[0m\u001b[0;34m=\u001b[0m\u001b[0;36m50\u001b[0m\u001b[0;34m)\u001b[0m\u001b[0;34m\u001b[0m\u001b[0;34m\u001b[0m\u001b[0m\n\u001b[0m",
            "\u001b[0;32m/usr/local/lib/python3.11/dist-packages/optuna/study/study.py\u001b[0m in \u001b[0;36moptimize\u001b[0;34m(self, func, n_trials, timeout, n_jobs, catch, callbacks, gc_after_trial, show_progress_bar)\u001b[0m\n\u001b[1;32m    487\u001b[0m                 \u001b[0mIf\u001b[0m \u001b[0mnested\u001b[0m \u001b[0minvocation\u001b[0m \u001b[0mof\u001b[0m \u001b[0mthis\u001b[0m \u001b[0mmethod\u001b[0m \u001b[0moccurs\u001b[0m\u001b[0;34m.\u001b[0m\u001b[0;34m\u001b[0m\u001b[0;34m\u001b[0m\u001b[0m\n\u001b[1;32m    488\u001b[0m         \"\"\"\n\u001b[0;32m--> 489\u001b[0;31m         _optimize(\n\u001b[0m\u001b[1;32m    490\u001b[0m             \u001b[0mstudy\u001b[0m\u001b[0;34m=\u001b[0m\u001b[0mself\u001b[0m\u001b[0;34m,\u001b[0m\u001b[0;34m\u001b[0m\u001b[0;34m\u001b[0m\u001b[0m\n\u001b[1;32m    491\u001b[0m             \u001b[0mfunc\u001b[0m\u001b[0;34m=\u001b[0m\u001b[0mfunc\u001b[0m\u001b[0;34m,\u001b[0m\u001b[0;34m\u001b[0m\u001b[0;34m\u001b[0m\u001b[0m\n",
            "\u001b[0;32m/usr/local/lib/python3.11/dist-packages/optuna/study/_optimize.py\u001b[0m in \u001b[0;36m_optimize\u001b[0;34m(study, func, n_trials, timeout, n_jobs, catch, callbacks, gc_after_trial, show_progress_bar)\u001b[0m\n\u001b[1;32m     62\u001b[0m     \u001b[0;32mtry\u001b[0m\u001b[0;34m:\u001b[0m\u001b[0;34m\u001b[0m\u001b[0;34m\u001b[0m\u001b[0m\n\u001b[1;32m     63\u001b[0m         \u001b[0;32mif\u001b[0m \u001b[0mn_jobs\u001b[0m \u001b[0;34m==\u001b[0m \u001b[0;36m1\u001b[0m\u001b[0;34m:\u001b[0m\u001b[0;34m\u001b[0m\u001b[0;34m\u001b[0m\u001b[0m\n\u001b[0;32m---> 64\u001b[0;31m             _optimize_sequential(\n\u001b[0m\u001b[1;32m     65\u001b[0m                 \u001b[0mstudy\u001b[0m\u001b[0;34m,\u001b[0m\u001b[0;34m\u001b[0m\u001b[0;34m\u001b[0m\u001b[0m\n\u001b[1;32m     66\u001b[0m                 \u001b[0mfunc\u001b[0m\u001b[0;34m,\u001b[0m\u001b[0;34m\u001b[0m\u001b[0;34m\u001b[0m\u001b[0m\n",
            "\u001b[0;32m/usr/local/lib/python3.11/dist-packages/optuna/study/_optimize.py\u001b[0m in \u001b[0;36m_optimize_sequential\u001b[0;34m(study, func, n_trials, timeout, catch, callbacks, gc_after_trial, reseed_sampler_rng, time_start, progress_bar)\u001b[0m\n\u001b[1;32m    159\u001b[0m \u001b[0;34m\u001b[0m\u001b[0m\n\u001b[1;32m    160\u001b[0m         \u001b[0;32mtry\u001b[0m\u001b[0;34m:\u001b[0m\u001b[0;34m\u001b[0m\u001b[0;34m\u001b[0m\u001b[0m\n\u001b[0;32m--> 161\u001b[0;31m             \u001b[0mfrozen_trial\u001b[0m \u001b[0;34m=\u001b[0m \u001b[0m_run_trial\u001b[0m\u001b[0;34m(\u001b[0m\u001b[0mstudy\u001b[0m\u001b[0;34m,\u001b[0m \u001b[0mfunc\u001b[0m\u001b[0;34m,\u001b[0m \u001b[0mcatch\u001b[0m\u001b[0;34m)\u001b[0m\u001b[0;34m\u001b[0m\u001b[0;34m\u001b[0m\u001b[0m\n\u001b[0m\u001b[1;32m    162\u001b[0m         \u001b[0;32mfinally\u001b[0m\u001b[0;34m:\u001b[0m\u001b[0;34m\u001b[0m\u001b[0;34m\u001b[0m\u001b[0m\n\u001b[1;32m    163\u001b[0m             \u001b[0;31m# The following line mitigates memory problems that can be occurred in some\u001b[0m\u001b[0;34m\u001b[0m\u001b[0;34m\u001b[0m\u001b[0m\n",
            "\u001b[0;32m/usr/local/lib/python3.11/dist-packages/optuna/study/_optimize.py\u001b[0m in \u001b[0;36m_run_trial\u001b[0;34m(study, func, catch)\u001b[0m\n\u001b[1;32m    251\u001b[0m         \u001b[0;32mand\u001b[0m \u001b[0;32mnot\u001b[0m \u001b[0misinstance\u001b[0m\u001b[0;34m(\u001b[0m\u001b[0mfunc_err\u001b[0m\u001b[0;34m,\u001b[0m \u001b[0mcatch\u001b[0m\u001b[0;34m)\u001b[0m\u001b[0;34m\u001b[0m\u001b[0;34m\u001b[0m\u001b[0m\n\u001b[1;32m    252\u001b[0m     ):\n\u001b[0;32m--> 253\u001b[0;31m         \u001b[0;32mraise\u001b[0m \u001b[0mfunc_err\u001b[0m\u001b[0;34m\u001b[0m\u001b[0;34m\u001b[0m\u001b[0m\n\u001b[0m\u001b[1;32m    254\u001b[0m     \u001b[0;32mreturn\u001b[0m \u001b[0mfrozen_trial\u001b[0m\u001b[0;34m\u001b[0m\u001b[0;34m\u001b[0m\u001b[0m\n\u001b[1;32m    255\u001b[0m \u001b[0;34m\u001b[0m\u001b[0m\n",
            "\u001b[0;32m/usr/local/lib/python3.11/dist-packages/optuna/study/_optimize.py\u001b[0m in \u001b[0;36m_run_trial\u001b[0;34m(study, func, catch)\u001b[0m\n\u001b[1;32m    199\u001b[0m     \u001b[0;32mwith\u001b[0m \u001b[0mget_heartbeat_thread\u001b[0m\u001b[0;34m(\u001b[0m\u001b[0mtrial\u001b[0m\u001b[0;34m.\u001b[0m\u001b[0m_trial_id\u001b[0m\u001b[0;34m,\u001b[0m \u001b[0mstudy\u001b[0m\u001b[0;34m.\u001b[0m\u001b[0m_storage\u001b[0m\u001b[0;34m)\u001b[0m\u001b[0;34m:\u001b[0m\u001b[0;34m\u001b[0m\u001b[0;34m\u001b[0m\u001b[0m\n\u001b[1;32m    200\u001b[0m         \u001b[0;32mtry\u001b[0m\u001b[0;34m:\u001b[0m\u001b[0;34m\u001b[0m\u001b[0;34m\u001b[0m\u001b[0m\n\u001b[0;32m--> 201\u001b[0;31m             \u001b[0mvalue_or_values\u001b[0m \u001b[0;34m=\u001b[0m \u001b[0mfunc\u001b[0m\u001b[0;34m(\u001b[0m\u001b[0mtrial\u001b[0m\u001b[0;34m)\u001b[0m\u001b[0;34m\u001b[0m\u001b[0;34m\u001b[0m\u001b[0m\n\u001b[0m\u001b[1;32m    202\u001b[0m         \u001b[0;32mexcept\u001b[0m \u001b[0mexceptions\u001b[0m\u001b[0;34m.\u001b[0m\u001b[0mTrialPruned\u001b[0m \u001b[0;32mas\u001b[0m \u001b[0me\u001b[0m\u001b[0;34m:\u001b[0m\u001b[0;34m\u001b[0m\u001b[0;34m\u001b[0m\u001b[0m\n\u001b[1;32m    203\u001b[0m             \u001b[0;31m# TODO(mamu): Handle multi-objective cases.\u001b[0m\u001b[0;34m\u001b[0m\u001b[0;34m\u001b[0m\u001b[0m\n",
            "\u001b[0;32m/tmp/ipython-input-20-1962216220.py\u001b[0m in \u001b[0;36mobjective\u001b[0;34m(trial)\u001b[0m\n\u001b[1;32m     36\u001b[0m   \u001b[0;32mfor\u001b[0m \u001b[0mepoch\u001b[0m \u001b[0;32min\u001b[0m \u001b[0mrange\u001b[0m\u001b[0;34m(\u001b[0m\u001b[0mepochs\u001b[0m\u001b[0;34m)\u001b[0m\u001b[0;34m:\u001b[0m\u001b[0;34m\u001b[0m\u001b[0;34m\u001b[0m\u001b[0m\n\u001b[1;32m     37\u001b[0m     \u001b[0mtotal_epoch_loss\u001b[0m \u001b[0;34m=\u001b[0m \u001b[0;36m0\u001b[0m\u001b[0;34m\u001b[0m\u001b[0;34m\u001b[0m\u001b[0m\n\u001b[0;32m---> 38\u001b[0;31m     \u001b[0;32mfor\u001b[0m \u001b[0mbatch_features\u001b[0m\u001b[0;34m,\u001b[0m \u001b[0mbatch_labels\u001b[0m \u001b[0;32min\u001b[0m \u001b[0mtrain_loader\u001b[0m\u001b[0;34m:\u001b[0m\u001b[0;34m\u001b[0m\u001b[0;34m\u001b[0m\u001b[0m\n\u001b[0m\u001b[1;32m     39\u001b[0m      \u001b[0mbatch_features\u001b[0m \u001b[0;34m=\u001b[0m \u001b[0mbatch_features\u001b[0m\u001b[0;34m.\u001b[0m\u001b[0mto\u001b[0m\u001b[0;34m(\u001b[0m\u001b[0mdevice\u001b[0m\u001b[0;34m)\u001b[0m\u001b[0;34m\u001b[0m\u001b[0;34m\u001b[0m\u001b[0m\n\u001b[1;32m     40\u001b[0m      \u001b[0mbatch_labels\u001b[0m \u001b[0;34m=\u001b[0m \u001b[0mbatch_labels\u001b[0m\u001b[0;34m.\u001b[0m\u001b[0mto\u001b[0m\u001b[0;34m(\u001b[0m\u001b[0mdevice\u001b[0m\u001b[0;34m)\u001b[0m\u001b[0;34m\u001b[0m\u001b[0;34m\u001b[0m\u001b[0m\n",
            "\u001b[0;32m/usr/local/lib/python3.11/dist-packages/torch/utils/data/dataloader.py\u001b[0m in \u001b[0;36m__next__\u001b[0;34m(self)\u001b[0m\n\u001b[1;32m    702\u001b[0m \u001b[0;34m\u001b[0m\u001b[0m\n\u001b[1;32m    703\u001b[0m     \u001b[0;32mdef\u001b[0m \u001b[0m__next__\u001b[0m\u001b[0;34m(\u001b[0m\u001b[0mself\u001b[0m\u001b[0;34m)\u001b[0m \u001b[0;34m->\u001b[0m \u001b[0mAny\u001b[0m\u001b[0;34m:\u001b[0m\u001b[0;34m\u001b[0m\u001b[0;34m\u001b[0m\u001b[0m\n\u001b[0;32m--> 704\u001b[0;31m         \u001b[0;32mwith\u001b[0m \u001b[0mtorch\u001b[0m\u001b[0;34m.\u001b[0m\u001b[0mautograd\u001b[0m\u001b[0;34m.\u001b[0m\u001b[0mprofiler\u001b[0m\u001b[0;34m.\u001b[0m\u001b[0mrecord_function\u001b[0m\u001b[0;34m(\u001b[0m\u001b[0mself\u001b[0m\u001b[0;34m.\u001b[0m\u001b[0m_profile_name\u001b[0m\u001b[0;34m)\u001b[0m\u001b[0;34m:\u001b[0m\u001b[0;34m\u001b[0m\u001b[0;34m\u001b[0m\u001b[0m\n\u001b[0m\u001b[1;32m    705\u001b[0m             \u001b[0;32mif\u001b[0m \u001b[0mself\u001b[0m\u001b[0;34m.\u001b[0m\u001b[0m_sampler_iter\u001b[0m \u001b[0;32mis\u001b[0m \u001b[0;32mNone\u001b[0m\u001b[0;34m:\u001b[0m\u001b[0;34m\u001b[0m\u001b[0;34m\u001b[0m\u001b[0m\n\u001b[1;32m    706\u001b[0m                 \u001b[0;31m# TODO(https://github.com/pytorch/pytorch/issues/76750)\u001b[0m\u001b[0;34m\u001b[0m\u001b[0;34m\u001b[0m\u001b[0m\n",
            "\u001b[0;32m/usr/local/lib/python3.11/dist-packages/torch/autograd/profiler.py\u001b[0m in \u001b[0;36m__exit__\u001b[0;34m(self, exc_type, exc_value, traceback)\u001b[0m\n\u001b[1;32m    767\u001b[0m         \u001b[0;32mif\u001b[0m \u001b[0;32mnot\u001b[0m \u001b[0mtorch\u001b[0m\u001b[0;34m.\u001b[0m\u001b[0mjit\u001b[0m\u001b[0;34m.\u001b[0m\u001b[0mis_scripting\u001b[0m\u001b[0;34m(\u001b[0m\u001b[0;34m)\u001b[0m\u001b[0;34m:\u001b[0m\u001b[0;34m\u001b[0m\u001b[0;34m\u001b[0m\u001b[0m\n\u001b[1;32m    768\u001b[0m             \u001b[0;32mwith\u001b[0m \u001b[0mtorch\u001b[0m\u001b[0;34m.\u001b[0m\u001b[0m_C\u001b[0m\u001b[0;34m.\u001b[0m\u001b[0mDisableTorchFunctionSubclass\u001b[0m\u001b[0;34m(\u001b[0m\u001b[0;34m)\u001b[0m\u001b[0;34m:\u001b[0m\u001b[0;34m\u001b[0m\u001b[0;34m\u001b[0m\u001b[0m\n\u001b[0;32m--> 769\u001b[0;31m                 \u001b[0mtorch\u001b[0m\u001b[0;34m.\u001b[0m\u001b[0mops\u001b[0m\u001b[0;34m.\u001b[0m\u001b[0mprofiler\u001b[0m\u001b[0;34m.\u001b[0m\u001b[0m_record_function_exit\u001b[0m\u001b[0;34m.\u001b[0m\u001b[0m_RecordFunction\u001b[0m\u001b[0;34m(\u001b[0m\u001b[0mrecord\u001b[0m\u001b[0;34m)\u001b[0m\u001b[0;34m\u001b[0m\u001b[0;34m\u001b[0m\u001b[0m\n\u001b[0m\u001b[1;32m    770\u001b[0m         \u001b[0;32melse\u001b[0m\u001b[0;34m:\u001b[0m\u001b[0;34m\u001b[0m\u001b[0;34m\u001b[0m\u001b[0m\n\u001b[1;32m    771\u001b[0m             \u001b[0mtorch\u001b[0m\u001b[0;34m.\u001b[0m\u001b[0mops\u001b[0m\u001b[0;34m.\u001b[0m\u001b[0mprofiler\u001b[0m\u001b[0;34m.\u001b[0m\u001b[0m_record_function_exit\u001b[0m\u001b[0;34m(\u001b[0m\u001b[0mrecord\u001b[0m\u001b[0;34m)\u001b[0m\u001b[0;34m\u001b[0m\u001b[0;34m\u001b[0m\u001b[0m\n",
            "\u001b[0;32m/usr/local/lib/python3.11/dist-packages/torch/_ops.py\u001b[0m in \u001b[0;36m__call__\u001b[0;34m(self, *args, **kwargs)\u001b[0m\n\u001b[1;32m    945\u001b[0m     \u001b[0;31m# that are named \"self\". This way, all the aten ops can be called by kwargs.\u001b[0m\u001b[0;34m\u001b[0m\u001b[0;34m\u001b[0m\u001b[0m\n\u001b[1;32m    946\u001b[0m     \u001b[0;32mdef\u001b[0m \u001b[0m__call__\u001b[0m\u001b[0;34m(\u001b[0m\u001b[0mself\u001b[0m\u001b[0;34m,\u001b[0m \u001b[0;34m/\u001b[0m\u001b[0;34m,\u001b[0m \u001b[0;34m*\u001b[0m\u001b[0margs\u001b[0m\u001b[0;34m,\u001b[0m \u001b[0;34m**\u001b[0m\u001b[0mkwargs\u001b[0m\u001b[0;34m)\u001b[0m\u001b[0;34m:\u001b[0m\u001b[0;34m\u001b[0m\u001b[0;34m\u001b[0m\u001b[0m\n\u001b[0;32m--> 947\u001b[0;31m         \u001b[0;32mif\u001b[0m \u001b[0m_must_dispatch_in_python\u001b[0m\u001b[0;34m(\u001b[0m\u001b[0margs\u001b[0m\u001b[0;34m,\u001b[0m \u001b[0mkwargs\u001b[0m\u001b[0;34m)\u001b[0m\u001b[0;34m:\u001b[0m\u001b[0;34m\u001b[0m\u001b[0;34m\u001b[0m\u001b[0m\n\u001b[0m\u001b[1;32m    948\u001b[0m             \u001b[0;31m# When any inputs are FakeScriptObject, we need to\u001b[0m\u001b[0;34m\u001b[0m\u001b[0;34m\u001b[0m\u001b[0m\n\u001b[1;32m    949\u001b[0m             \u001b[0;31m# skip c++ dispatcher and dispatch in python through _get_dispatch of python_dispatcher\u001b[0m\u001b[0;34m\u001b[0m\u001b[0;34m\u001b[0m\u001b[0m\n",
            "\u001b[0;32m/usr/local/lib/python3.11/dist-packages/torch/_ops.py\u001b[0m in \u001b[0;36m_must_dispatch_in_python\u001b[0;34m(args, kwargs)\u001b[0m\n\u001b[1;32m    999\u001b[0m \u001b[0;34m\u001b[0m\u001b[0m\n\u001b[1;32m   1000\u001b[0m \u001b[0;32mdef\u001b[0m \u001b[0m_must_dispatch_in_python\u001b[0m\u001b[0;34m(\u001b[0m\u001b[0margs\u001b[0m\u001b[0;34m,\u001b[0m \u001b[0mkwargs\u001b[0m\u001b[0;34m)\u001b[0m\u001b[0;34m:\u001b[0m\u001b[0;34m\u001b[0m\u001b[0;34m\u001b[0m\u001b[0m\n\u001b[0;32m-> 1001\u001b[0;31m     return pytree.tree_any(\n\u001b[0m\u001b[1;32m   1002\u001b[0m         lambda obj: isinstance(\n\u001b[1;32m   1003\u001b[0m             \u001b[0mobj\u001b[0m\u001b[0;34m,\u001b[0m \u001b[0mtorch\u001b[0m\u001b[0;34m.\u001b[0m\u001b[0m_library\u001b[0m\u001b[0;34m.\u001b[0m\u001b[0mfake_class_registry\u001b[0m\u001b[0;34m.\u001b[0m\u001b[0mFakeScriptObject\u001b[0m\u001b[0;34m\u001b[0m\u001b[0;34m\u001b[0m\u001b[0m\n",
            "\u001b[0;32m/usr/local/lib/python3.11/dist-packages/torch/utils/_pytree.py\u001b[0m in \u001b[0;36mtree_any\u001b[0;34m(pred, tree, is_leaf)\u001b[0m\n\u001b[1;32m   1228\u001b[0m ) -> bool:\n\u001b[1;32m   1229\u001b[0m     \u001b[0mflat_args\u001b[0m \u001b[0;34m=\u001b[0m \u001b[0mtree_iter\u001b[0m\u001b[0;34m(\u001b[0m\u001b[0mtree\u001b[0m\u001b[0;34m,\u001b[0m \u001b[0mis_leaf\u001b[0m\u001b[0;34m=\u001b[0m\u001b[0mis_leaf\u001b[0m\u001b[0;34m)\u001b[0m\u001b[0;34m\u001b[0m\u001b[0;34m\u001b[0m\u001b[0m\n\u001b[0;32m-> 1230\u001b[0;31m     \u001b[0;32mreturn\u001b[0m \u001b[0many\u001b[0m\u001b[0;34m(\u001b[0m\u001b[0mmap\u001b[0m\u001b[0;34m(\u001b[0m\u001b[0mpred\u001b[0m\u001b[0;34m,\u001b[0m \u001b[0mflat_args\u001b[0m\u001b[0;34m)\u001b[0m\u001b[0;34m)\u001b[0m\u001b[0;34m\u001b[0m\u001b[0;34m\u001b[0m\u001b[0m\n\u001b[0m\u001b[1;32m   1231\u001b[0m \u001b[0;34m\u001b[0m\u001b[0m\n\u001b[1;32m   1232\u001b[0m \u001b[0;34m\u001b[0m\u001b[0m\n",
            "\u001b[0;32m/usr/local/lib/python3.11/dist-packages/torch/utils/_pytree.py\u001b[0m in \u001b[0;36mtree_iter\u001b[0;34m(tree, is_leaf)\u001b[0m\n\u001b[1;32m    929\u001b[0m         \u001b[0;31m# Recursively flatten the children\u001b[0m\u001b[0;34m\u001b[0m\u001b[0;34m\u001b[0m\u001b[0m\n\u001b[1;32m    930\u001b[0m         \u001b[0;32mfor\u001b[0m \u001b[0mchild\u001b[0m \u001b[0;32min\u001b[0m \u001b[0mchild_pytrees\u001b[0m\u001b[0;34m:\u001b[0m\u001b[0;34m\u001b[0m\u001b[0;34m\u001b[0m\u001b[0m\n\u001b[0;32m--> 931\u001b[0;31m             \u001b[0;32myield\u001b[0m \u001b[0;32mfrom\u001b[0m \u001b[0mtree_iter\u001b[0m\u001b[0;34m(\u001b[0m\u001b[0mchild\u001b[0m\u001b[0;34m,\u001b[0m \u001b[0mis_leaf\u001b[0m\u001b[0;34m=\u001b[0m\u001b[0mis_leaf\u001b[0m\u001b[0;34m)\u001b[0m\u001b[0;34m\u001b[0m\u001b[0;34m\u001b[0m\u001b[0m\n\u001b[0m\u001b[1;32m    932\u001b[0m \u001b[0;34m\u001b[0m\u001b[0m\n\u001b[1;32m    933\u001b[0m \u001b[0;34m\u001b[0m\u001b[0m\n",
            "\u001b[0;32m/usr/local/lib/python3.11/dist-packages/torch/utils/_pytree.py\u001b[0m in \u001b[0;36mtree_iter\u001b[0;34m(tree, is_leaf)\u001b[0m\n\u001b[1;32m    925\u001b[0m         \u001b[0mnode_type\u001b[0m \u001b[0;34m=\u001b[0m \u001b[0m_get_node_type\u001b[0m\u001b[0;34m(\u001b[0m\u001b[0mtree\u001b[0m\u001b[0;34m)\u001b[0m\u001b[0;34m\u001b[0m\u001b[0;34m\u001b[0m\u001b[0m\n\u001b[1;32m    926\u001b[0m         \u001b[0mflatten_fn\u001b[0m \u001b[0;34m=\u001b[0m \u001b[0mSUPPORTED_NODES\u001b[0m\u001b[0;34m[\u001b[0m\u001b[0mnode_type\u001b[0m\u001b[0;34m]\u001b[0m\u001b[0;34m.\u001b[0m\u001b[0mflatten_fn\u001b[0m\u001b[0;34m\u001b[0m\u001b[0;34m\u001b[0m\u001b[0m\n\u001b[0;32m--> 927\u001b[0;31m         \u001b[0mchild_pytrees\u001b[0m\u001b[0;34m,\u001b[0m \u001b[0m_\u001b[0m \u001b[0;34m=\u001b[0m \u001b[0mflatten_fn\u001b[0m\u001b[0;34m(\u001b[0m\u001b[0mtree\u001b[0m\u001b[0;34m)\u001b[0m\u001b[0;34m\u001b[0m\u001b[0;34m\u001b[0m\u001b[0m\n\u001b[0m\u001b[1;32m    928\u001b[0m \u001b[0;34m\u001b[0m\u001b[0m\n\u001b[1;32m    929\u001b[0m         \u001b[0;31m# Recursively flatten the children\u001b[0m\u001b[0;34m\u001b[0m\u001b[0;34m\u001b[0m\u001b[0m\n",
            "\u001b[0;32m/usr/local/lib/python3.11/dist-packages/torch/utils/_pytree.py\u001b[0m in \u001b[0;36m_dict_flatten\u001b[0;34m(d)\u001b[0m\n\u001b[1;32m    465\u001b[0m \u001b[0;34m\u001b[0m\u001b[0m\n\u001b[1;32m    466\u001b[0m \u001b[0;32mdef\u001b[0m \u001b[0m_dict_flatten\u001b[0m\u001b[0;34m(\u001b[0m\u001b[0md\u001b[0m\u001b[0;34m:\u001b[0m \u001b[0mDict\u001b[0m\u001b[0;34m[\u001b[0m\u001b[0mAny\u001b[0m\u001b[0;34m,\u001b[0m \u001b[0mAny\u001b[0m\u001b[0;34m]\u001b[0m\u001b[0;34m)\u001b[0m \u001b[0;34m->\u001b[0m \u001b[0mTuple\u001b[0m\u001b[0;34m[\u001b[0m\u001b[0mList\u001b[0m\u001b[0;34m[\u001b[0m\u001b[0mAny\u001b[0m\u001b[0;34m]\u001b[0m\u001b[0;34m,\u001b[0m \u001b[0mContext\u001b[0m\u001b[0;34m]\u001b[0m\u001b[0;34m:\u001b[0m\u001b[0;34m\u001b[0m\u001b[0;34m\u001b[0m\u001b[0m\n\u001b[0;32m--> 467\u001b[0;31m     \u001b[0;32mreturn\u001b[0m \u001b[0mlist\u001b[0m\u001b[0;34m(\u001b[0m\u001b[0md\u001b[0m\u001b[0;34m.\u001b[0m\u001b[0mvalues\u001b[0m\u001b[0;34m(\u001b[0m\u001b[0;34m)\u001b[0m\u001b[0;34m)\u001b[0m\u001b[0;34m,\u001b[0m \u001b[0mlist\u001b[0m\u001b[0;34m(\u001b[0m\u001b[0md\u001b[0m\u001b[0;34m.\u001b[0m\u001b[0mkeys\u001b[0m\u001b[0;34m(\u001b[0m\u001b[0;34m)\u001b[0m\u001b[0;34m)\u001b[0m\u001b[0;34m\u001b[0m\u001b[0;34m\u001b[0m\u001b[0m\n\u001b[0m\u001b[1;32m    468\u001b[0m \u001b[0;34m\u001b[0m\u001b[0m\n\u001b[1;32m    469\u001b[0m \u001b[0;34m\u001b[0m\u001b[0m\n",
            "\u001b[0;31mKeyboardInterrupt\u001b[0m: "
          ]
        }
      ]
    },
    {
      "cell_type": "code",
      "source": [
        "study.best_value"
      ],
      "metadata": {
        "colab": {
          "base_uri": "https://localhost:8080/"
        },
        "id": "W3D8gQz03ngY",
        "outputId": "1f03748a-e579-4918-fbbf-cc36464109ef"
      },
      "execution_count": null,
      "outputs": [
        {
          "output_type": "execute_result",
          "data": {
            "text/plain": [
              "88.80833333333334"
            ]
          },
          "metadata": {},
          "execution_count": 23
        }
      ]
    },
    {
      "cell_type": "code",
      "source": [
        "study.best_params"
      ],
      "metadata": {
        "colab": {
          "base_uri": "https://localhost:8080/"
        },
        "id": "qeZBLGz63zKJ",
        "outputId": "bc83be3e-6c07-4be7-fbb0-47a49d739e5c"
      },
      "execution_count": null,
      "outputs": [
        {
          "output_type": "execute_result",
          "data": {
            "text/plain": [
              "{'num_hidden_layers': 4,\n",
              " 'neurons_per_layer': 72,\n",
              " 'epochs': 100,\n",
              " 'learning_rate': 5.817284058149812e-05,\n",
              " 'dropout_rate': 0.2,\n",
              " 'batch_size': 128,\n",
              " 'optimizer': 'Adam',\n",
              " 'weight_decay': 3.794627897715172e-05}"
            ]
          },
          "metadata": {},
          "execution_count": 24
        }
      ]
    }
  ]
}